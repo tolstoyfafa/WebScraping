{
 "cells": [
  {
   "cell_type": "markdown",
   "metadata": {},
   "source": [
    "***\n",
    "# Brief Projet : OSINT Web Scraping (level imiter)\n",
    "\n",
    " \n",
    "- **Je fournis plusieurs URL dont chacune permet de s'exercer sur une question bien spécifique (pr s'entraîner).**  \n",
    "  \n",
    "url1 = http://pythonscraping.com/pages/page1.html  \n",
    "url2 = http://www.pythonscraping.com/pages/warandpeace.html  \n",
    "url3 = http://www.pythonscraping.com/pages/page3.html\n",
    "\n",
    "\n",
    "\n",
    "- **La documentation de BeautifulSoup : https://www.crummy.com/software/BeautifulSoup/bs4/doc/**  \n",
    "Autres ressources :   \n",
    "- https://hackernoon.com/scraping-amazon-product-information-with-python-and-beautifulsoup-yn4s3tgr\n",
    "\n",
    "***\n",
    "## Veille (Learnin by Teachning 9h30-10h00) : \n",
    "- **Faire une veille sur les pkg BeautifulSoup et requests ?**   \n",
    "\n",
    "![](https://encrypted-tbn0.gstatic.com/images?q=tbn:ANd9GcShSNuITX-DU4GNs8NUjxVe06sR6hQs7qe7O_SITovAbe8AUcO7)\n",
    "\n",
    "***\n",
    "## Q : \n",
    "- **On se donne comme 1er obj de réccuperer le title de la page web url_t !**   \n",
    "    - *Lorsque vs pointez en effet la flèche de la souris sur un onglet chrome, vs affichez le title de la page web en question.*\n",
    "        - Dans notre cas : RealDonalTrump (@RealDonalTrump) | Twitter  \n",
    "        - Indice : \n",
    "            - import requests\n",
    "            - from bs4 import BeautifulSoup\n",
    "            - `.read()`, `BeautifulSoup()`, `tag` `title`, `text`\n",
    "            \n",
    "**`HTML`** | **`HTML`** \n",
    "--- | --- \n",
    "![](https://user.oc-static.com/files/340001_341000/340563.png) | ![](http://www.cleantutorials.com/wp-content/uploads/2015/11/html-tag.png)\n",
    "\n",
    "            \n",
    "***\n",
    "\n",
    "- **Q : Après avoir identifié la structure de la page url1 (*head, title, body, h1, div*), extraire le titre principal ?** \n",
    "    - Dans notre cas, h1 : \"*An Interesting Title*\".\n",
    "    - Q : Extraire alors le titre principal (h1) de la page de Donald Trump ? \n",
    "    \n",
    "    \n",
    "- **Q : Après avoir identifié la structure de la page url2 (head, title, body, h1, h2, div, span),**\n",
    "    - Récupérer ts les mots en vert (ensuite en rouge) ? Le 1er, Les 5 premiers ? \n",
    "    - Récupérer ts les mots qui sont soit en rouge soit en vert ? Le 1er, Les 5 premiers ?\n",
    "    - Récupérer ts les mots qui correspondent à \"the prince\" en miniscule et coloré en vert ?\n",
    "        - Ex : 1è mot en vert : Anna\n",
    "        \n",
    "        \n",
    "- **Q : Après avoir identifié la structure de la page url3, réccupérer le *tableau* en entier** \n",
    "        - HTML\n",
    "            - body\n",
    "                - div.wrapper\n",
    "                    - h1\n",
    "                    - div.content\n",
    "                    - table#giftList\n",
    "                        - tr\n",
    "                            - th\n",
    "                            - th\n",
    "                            - th\n",
    "                            - th\n",
    "                        - tr.gift#gift1\n",
    "                            - td\n",
    "                            - td\n",
    "                                - span.excitingNote\n",
    "                            - td\n",
    "                            - td \n",
    "                                - img\n",
    "                        - table rows continue...\n",
    "                    - div.footer\n",
    "       \n",
    "                \n",
    "\n",
    "- **Q : Identifier la structure de la page de Donald Trump (*head, title, body, h1,..., h6, div, span,...*) ?**\n",
    "***\n",
    "- ## Gestion des exceptions\n",
    "    - **Q : Qu'est-ce que les erreurs 404 et 500, Gérer ces deux erreurs pr les différents URL utilisés ?** \n",
    "    \n",
    "     Indice : (en entier càd y compris ses tags, spans, Indice : )"
   ]
  },
  {
   "cell_type": "markdown",
   "metadata": {},
   "source": [
    "***\n",
    "## R"
   ]
  },
  {
   "cell_type": "code",
   "execution_count": 1,
   "metadata": {
    "scrolled": true
   },
   "outputs": [
    {
     "name": "stdout",
     "output_type": "stream",
     "text": [
      "Collecting bs4\n",
      "  Downloading https://files.pythonhosted.org/packages/10/ed/7e8b97591f6f456174139ec089c769f89a94a1a4025fe967691de971f314/bs4-0.0.1.tar.gz\n",
      "Collecting beautifulsoup4 (from bs4)\n",
      "\u001b[33m  Cache entry deserialization failed, entry ignored\u001b[0m\n",
      "\u001b[33m  Cache entry deserialization failed, entry ignored\u001b[0m\n",
      "  Downloading https://files.pythonhosted.org/packages/d1/41/e6495bd7d3781cee623ce23ea6ac73282a373088fcd0ddc809a047b18eae/beautifulsoup4-4.9.3-py3-none-any.whl (115kB)\n",
      "\u001b[K    100% |████████████████████████████████| 122kB 2.4MB/s ta 0:00:01\n",
      "\u001b[?25hCollecting soupsieve>1.2; python_version >= \"3.0\" (from beautifulsoup4->bs4)\n",
      "\u001b[33m  Cache entry deserialization failed, entry ignored\u001b[0m\n",
      "\u001b[33m  Cache entry deserialization failed, entry ignored\u001b[0m\n",
      "  Downloading https://files.pythonhosted.org/packages/6f/8f/457f4a5390eeae1cc3aeab89deb7724c965be841ffca6cfca9197482e470/soupsieve-2.0.1-py3-none-any.whl\n",
      "Building wheels for collected packages: bs4\n",
      "  Running setup.py bdist_wheel for bs4 ... \u001b[?25ldone\n",
      "\u001b[?25h  Stored in directory: /home/fbordjah/.cache/pip/wheels/a0/b0/b2/4f80b9456b87abedbc0bf2d52235414c3467d8889be38dd472\n",
      "Successfully built bs4\n",
      "Installing collected packages: soupsieve, beautifulsoup4, bs4\n",
      "Successfully installed beautifulsoup4-4.9.3 bs4-0.0.1 soupsieve-2.0.1\n",
      "Note: you may need to restart the kernel to use updated packages.\n"
     ]
    }
   ],
   "source": [
    "pip install bs4"
   ]
  },
  {
   "cell_type": "code",
   "execution_count": 2,
   "metadata": {},
   "outputs": [
    {
     "name": "stdout",
     "output_type": "stream",
     "text": [
      "Collecting lxml\n",
      "\u001b[33m  Cache entry deserialization failed, entry ignored\u001b[0m\n",
      "\u001b[33m  Cache entry deserialization failed, entry ignored\u001b[0m\n",
      "  Downloading https://files.pythonhosted.org/packages/64/28/0b761b64ecbd63d272ed0e7a6ae6e4402fc37886b59181bfdf274424d693/lxml-4.6.1-cp36-cp36m-manylinux1_x86_64.whl (5.5MB)\n",
      "\u001b[K    100% |████████████████████████████████| 5.5MB 158kB/s eta 0:00:01\n",
      "\u001b[?25hInstalling collected packages: lxml\n",
      "Successfully installed lxml-4.6.1\n",
      "Note: you may need to restart the kernel to use updated packages.\n"
     ]
    }
   ],
   "source": [
    "pip install lxml"
   ]
  },
  {
   "cell_type": "code",
   "execution_count": 1,
   "metadata": {},
   "outputs": [],
   "source": [
    "# conda install BeautifulSoup4\n",
    "# conda install lxml\n",
    "# les imports\n",
    "import requests\n",
    "from bs4 import BeautifulSoup"
   ]
  },
  {
   "cell_type": "code",
   "execution_count": 70,
   "metadata": {
    "scrolled": true
   },
   "outputs": [
    {
     "name": "stdout",
     "output_type": "stream",
     "text": [
      "b'<!DOCTYPE html>\\n<html dir=\"ltr\" lang=\"en\">\\n<meta charset=\"utf-8\" />\\n<meta name=\"viewport\" content=\"width=device-width,initial-scale=1,maximum-scale=1,user-scalable=0,viewport-fit=cover\" />\\n<link rel=\"preconnect\" href=\"//abs.twimg.com\" />\\n<link rel=\"preconnect\" href=\"//api.twitter.com\" />\\n<link rel=\"preconnect\" href=\"//pbs.twimg.com\" />\\n<link rel=\"preconnect\" href=\"//t.co\" />\\n<link rel=\"preconnect\" href=\"//video.twimg.com\" />\\n<link rel=\"dns-prefetch\" href=\"//abs.twimg.com\" />\\n<link rel=\"dns-prefetch\" href=\"//api.twitter.com\" />\\n<link rel=\"dns-prefetch\" href=\"//pbs.twimg.com\" />\\n<link rel=\"dns-prefetch\" href=\"//t.co\" />\\n<link rel=\"dns-prefetch\" href=\"//video.twimg.com\" />\\n<link rel=\"preload\" as=\"script\" crossorigin=\"anonymous\" href=\"https://abs.twimg.com/responsive-web/client-web-legacy/polyfills.78d11e15.js\" nonce=\"NWU3ZTA3ZGEtNWEwYS00YzRiLTk1NWEtNGJmOWU2M2ZiY2Qz\" />\\n<link rel=\"preload\" as=\"script\" crossorigin=\"anonymous\" href=\"https://abs.twimg.com/responsive-web/client-web-legacy/vendors~main.68b1d365.js\" nonce=\"NWU3ZTA3ZGEtNWEwYS00YzRiLTk1NWEtNGJmOWU2M2ZiY2Qz\" />\\n<link rel=\"preload\" as=\"script\" crossorigin=\"anonymous\" href=\"https://abs.twimg.com/responsive-web/client-web-legacy/i18n/en.22d83a55.js\" nonce=\"NWU3ZTA3ZGEtNWEwYS00YzRiLTk1NWEtNGJmOWU2M2ZiY2Qz\" />\\n<link rel=\"preload\" as=\"script\" crossorigin=\"anonymous\" href=\"https://abs.twimg.com/responsive-web/client-web-legacy/main.b2552b65.js\" nonce=\"NWU3ZTA3ZGEtNWEwYS00YzRiLTk1NWEtNGJmOWU2M2ZiY2Qz\" />\\n<meta property=\"fb:app_id\" content=\"2231777543\" />\\n<meta property=\"og:site_name\" content=\"Twitter\" />\\n<meta name=\"google-site-verification\" content=\"V0yIS0Ec_o3Ii9KThrCoMCkwTYMMJ_JYx_RSaGhFYvw\" />\\n<link rel=\"manifest\" href=\"/manifest.json\" crossOrigin=\"use-credentials\" />\\n<link rel=\"alternate\" hreflang=\"x-default\" href=\"https://twitter.com/home\" />\\n<link rel=\"alternate\" hreflang=\"ar\" href=\"https://twitter.com/home?lang&#x3D;ar\" />\\n<link rel=\"alternate\" hreflang=\"bg\" href=\"https://twitter.com/home?lang&#x3D;bg\" />\\n<link rel=\"alternate\" hreflang=\"bn\" href=\"https://twitter.com/home?lang&#x3D;bn\" />\\n<link rel=\"alternate\" hreflang=\"ca\" href=\"https://twitter.com/home?lang&#x3D;ca\" />\\n<link rel=\"alternate\" hreflang=\"cs\" href=\"https://twitter.com/home?lang&#x3D;cs\" />\\n<link rel=\"alternate\" hreflang=\"da\" href=\"https://twitter.com/home?lang&#x3D;da\" />\\n<link rel=\"alternate\" hreflang=\"de\" href=\"https://twitter.com/home?lang&#x3D;de\" />\\n<link rel=\"alternate\" hreflang=\"el\" href=\"https://twitter.com/home?lang&#x3D;el\" />\\n<link rel=\"alternate\" hreflang=\"en\" href=\"https://twitter.com/home?lang&#x3D;en\" />\\n<link rel=\"alternate\" hreflang=\"en-GB\" href=\"https://twitter.com/home?lang&#x3D;en-GB\" />\\n<link rel=\"alternate\" hreflang=\"es\" href=\"https://twitter.com/home?lang&#x3D;es\" />\\n<link rel=\"alternate\" hreflang=\"eu\" href=\"https://twitter.com/home?lang&#x3D;eu\" />\\n<link rel=\"alternate\" hreflang=\"fa\" href=\"https://twitter.com/home?lang&#x3D;fa\" />\\n<link rel=\"alternate\" hreflang=\"fi\" href=\"https://twitter.com/home?lang&#x3D;fi\" />\\n<link rel=\"alternate\" hreflang=\"tl\" href=\"https://twitter.com/home?lang&#x3D;tl\" />\\n<link rel=\"alternate\" hreflang=\"fr\" href=\"https://twitter.com/home?lang&#x3D;fr\" />\\n<link rel=\"alternate\" hreflang=\"ga\" href=\"https://twitter.com/home?lang&#x3D;ga\" />\\n<link rel=\"alternate\" hreflang=\"gl\" href=\"https://twitter.com/home?lang&#x3D;gl\" />\\n<link rel=\"alternate\" hreflang=\"gu\" href=\"https://twitter.com/home?lang&#x3D;gu\" />\\n<link rel=\"alternate\" hreflang=\"he\" href=\"https://twitter.com/home?lang&#x3D;he\" />\\n<link rel=\"alternate\" hreflang=\"hi\" href=\"https://twitter.com/home?lang&#x3D;hi\" />\\n<link rel=\"alternate\" hreflang=\"hr\" href=\"https://twitter.com/home?lang&#x3D;hr\" />\\n<link rel=\"alternate\" hreflang=\"hu\" href=\"https://twitter.com/home?lang&#x3D;hu\" />\\n<link rel=\"alternate\" hreflang=\"id\" href=\"https://twitter.com/home?lang&#x3D;id\" />\\n<link rel=\"alternate\" hreflang=\"it\" href=\"https://twitter.com/home?lang&#x3D;it\" />\\n<link rel=\"alternate\" hreflang=\"ja\" href=\"https://twitter.com/home?lang&#x3D;ja\" />\\n<link rel=\"alternate\" hreflang=\"kn\" href=\"https://twitter.com/home?lang&#x3D;kn\" />\\n<link rel=\"alternate\" hreflang=\"ko\" href=\"https://twitter.com/home?lang&#x3D;ko\" />\\n<link rel=\"alternate\" hreflang=\"mr\" href=\"https://twitter.com/home?lang&#x3D;mr\" />\\n<link rel=\"alternate\" hreflang=\"ms\" href=\"https://twitter.com/home?lang&#x3D;ms\" />\\n<link rel=\"alternate\" hreflang=\"nb\" href=\"https://twitter.com/home?lang&#x3D;nb\" />\\n<link rel=\"alternate\" hreflang=\"nl\" href=\"https://twitter.com/home?lang&#x3D;nl\" />\\n<link rel=\"alternate\" hreflang=\"pl\" href=\"https://twitter.com/home?lang&#x3D;pl\" />\\n<link rel=\"alternate\" hreflang=\"pt\" href=\"https://twitter.com/home?lang&#x3D;pt\" />\\n<link rel=\"alternate\" hreflang=\"ro\" href=\"https://twitter.com/home?lang&#x3D;ro\" />\\n<link rel=\"alternate\" hreflang=\"ru\" href=\"https://twitter.com/home?lang&#x3D;ru\" />\\n<link rel=\"alternate\" hreflang=\"sk\" href=\"https://twitter.com/home?lang&#x3D;sk\" />\\n<link rel=\"alternate\" hreflang=\"sr\" href=\"https://twitter.com/home?lang&#x3D;sr\" />\\n<link rel=\"alternate\" hreflang=\"sv\" href=\"https://twitter.com/home?lang&#x3D;sv\" />\\n<link rel=\"alternate\" hreflang=\"ta\" href=\"https://twitter.com/home?lang&#x3D;ta\" />\\n<link rel=\"alternate\" hreflang=\"th\" href=\"https://twitter.com/home?lang&#x3D;th\" />\\n<link rel=\"alternate\" hreflang=\"tr\" href=\"https://twitter.com/home?lang&#x3D;tr\" />\\n<link rel=\"alternate\" hreflang=\"uk\" href=\"https://twitter.com/home?lang&#x3D;uk\" />\\n<link rel=\"alternate\" hreflang=\"ur\" href=\"https://twitter.com/home?lang&#x3D;ur\" />\\n<link rel=\"alternate\" hreflang=\"vi\" href=\"https://twitter.com/home?lang&#x3D;vi\" />\\n<link rel=\"alternate\" hreflang=\"zh\" href=\"https://twitter.com/home?lang&#x3D;zh\" />\\n<link rel=\"alternate\" hreflang=\"zh-Hant\" href=\"https://twitter.com/home?lang&#x3D;zh-Hant\" />\\n<link rel=\"canonical\" href=\"https://twitter.com/home\" />\\n<link rel=\"search\" type=\"application/opensearchdescription+xml\" href=\"/opensearch.xml\" title=\"Twitter\">\\n<link rel=\"mask-icon\" sizes=\"any\" href=\"https://abs.twimg.com/responsive-web/client-web-legacy/icon-svg.9e211f65.svg\" color=\"#1da1f2\">\\n<link rel=\"shortcut icon\" href=\"//abs.twimg.com/favicons/twitter.ico\" type=\"image/x-icon\">\\n<link rel=\"apple-touch-icon\" sizes=\"192x192\" href=\"https://abs.twimg.com/responsive-web/client-web-legacy/icon-ios.8ea219d5.png\" />\\n<meta name=\"mobile-web-app-capable\" content=\"yes\" />\\n<meta name=\"apple-mobile-web-app-title\" content=\"Twitter\" />\\n<meta name=\"apple-mobile-web-app-status-bar-style\" content=\"white\" />\\n<meta name=\"theme-color\" content=\"#ffffff\" />\\n<meta http-equiv=\"origin-trial\" content=\"Apir4chqTX+4eFxKD+ErQlKRB/VtZ/dvnLfd9Y9Nenl5r1xJcf81alryTHYQiuUlz9Q49MqGXqyaiSmqWzHUqQwAAABneyJvcmlnaW4iOiJodHRwczovL3R3aXR0ZXIuY29tOjQ0MyIsImZlYXR1cmUiOiJDb250YWN0c01hbmFnZXIiLCJleHBpcnkiOjE1NzUwMzUyODMsImlzU3ViZG9tYWluIjp0cnVlfQ==\" />\\n\\n<style>html,body{height: 100%;}body{-ms-overflow-style:scrollbar;overflow-y:scroll;overscroll-behavior-y:none;}</style>\\n<style id=\"react-native-stylesheet\">[stylesheet-group=\"0\"]{}\\nhtml{-ms-text-size-adjust:100%;-webkit-text-size-adjust:100%;-webkit-tap-highlight-color:rgba(0,0,0,0);}\\nbody{margin:0;}\\nbutton::-moz-focus-inner,input::-moz-focus-inner{border:0;padding:0;}\\ninput::-webkit-inner-spin-button,input::-webkit-outer-spin-button,input::-webkit-search-cancel-button,input::-webkit-search-decoration,input::-webkit-search-results-button,input::-webkit-search-results-decoration{display:none;}\\n[stylesheet-group=\"0.1\"]{}\\n:focus:not([data-focusvisible-polyfill]){outline: none;}\\n[stylesheet-group=\"1\"]{}\\n.css-1dbjc4n{-ms-flex-align:stretch;-ms-flex-direction:column;-ms-flex-negative:0;-ms-flex-preferred-size:auto;-webkit-align-items:stretch;-webkit-box-align:stretch;-webkit-box-direction:normal;-webkit-box-orient:vertical;-webkit-flex-basis:auto;-webkit-flex-direction:column;-webkit-flex-shrink:0;align-items:stretch;border:0 solid black;box-sizing:border-box;display:-webkit-box;display:-moz-box;display:-ms-flexbox;display:-webkit-flex;display:flex;flex-basis:auto;flex-direction:column;flex-shrink:0;margin-bottom:0px;margin-left:0px;margin-right:0px;margin-top:0px;min-height:0px;min-width:0px;padding-bottom:0px;padding-left:0px;padding-right:0px;padding-top:0px;position:relative;z-index:0;}\\n.css-901oao{border:0 solid black;box-sizing:border-box;color:rgba(0,0,0,1.00);display:inline;font:14px -apple-system,BlinkMacSystemFont,\"Segoe UI\",Roboto,Helvetica,Arial,sans-serif;margin-bottom:0px;margin-left:0px;margin-right:0px;margin-top:0px;padding-bottom:0px;padding-left:0px;padding-right:0px;padding-top:0px;white-space:pre-wrap;word-wrap:break-word;}\\n.css-16my406{color:inherit;font:inherit;white-space:inherit;}\\n[stylesheet-group=\"2\"]{}\\n.r-13awgt0{-ms-flex:1 1 0%;-webkit-flex:1;flex:1;}\\n.r-4qtqp9{display:inline-block;}\\n.r-ywje51{margin-bottom:auto;margin-left:auto;margin-right:auto;margin-top:auto;}\\n.r-hvic4v{display:none;}\\n.r-1adg3ll{display:block;}\\n[stylesheet-group=\"2.2\"]{}\\n.r-12vffkv>*{pointer-events:auto;}\\n.r-12vffkv{pointer-events:none!important;}\\n.r-14lw9ot{background-color:rgba(255,255,255,1.00);}\\n.r-1p0dtai{bottom:0px;}\\n.r-1d2f490{left:0px;}\\n.r-1xcajam{position:fixed;}\\n.r-zchlnj{right:0px;}\\n.r-ipm5af{top:0px;}\\n.r-yyyyoo{fill:currentcolor;}\\n.r-1xvli5t{height:1.25em;}\\n.r-dnmrzs{max-width:100%;}\\n.r-bnwqim{position:relative;}\\n.r-1plcrui{vertical-align:text-bottom;}\\n.r-lrvibr{-moz-user-select:none;-ms-user-select:none;-webkit-user-select:none;user-select:none;}\\n.r-13gxpu9{color:rgba(29,161,242,1.00);}\\n.r-wy61xf{height:72px;}\\n.r-u8s1d{position:absolute;}\\n.r-1blnp2b{width:72px;}\\n.r-1ykxob0{top:60%;}\\n.r-1b2b6em{line-height:2em;}\\n.r-q4m81j{text-align:center;}</style>\\n\\n\\n<body>\\n  <noscript>\\n    <form action=\"https://mobile.twitter.com/i/nojs_router?path=%2Fhome\" method=\"POST\" style=\"background-color: #fff; position: fixed; top: 0; left: 0; right: 0; bottom: 0; z-index: 9999;\">\\n      <div style=\"font-size: 18px; font-family: Helvetica,sans-serif; line-height: 24px; margin: 10%; width: 80%;\">\\n        <p>We\\'ve detected that JavaScript is disabled in your browser. Would you like to proceed to legacy Twitter?</p>\\n        <p style=\"margin: 20px 0;\">\\n          <button type=\"submit\" style=\"background-color: #1da1f2; border-radius: 100px; border: none; box-shadow: none; color: #fff; cursor: pointer; font-size: 14px; font-weight: bold; line-height: 20px; padding: 6px 16px;\">Yes</button>\\n        </p>\\n      </div>\\n    </form>\\n  </noscript>\\n  <div id=\"react-root\" style=\"height:100%;display:flex;\"><div class=\"css-1dbjc4n r-13awgt0 r-12vffkv\"><div class=\"css-1dbjc4n r-13awgt0 r-12vffkv\"><style>\\n          @media (prefers-color-scheme: dark) {\\n            #placeholder {\\n              background-color: #1B2836\\n            }\\n          }\\n        </style><div aria-label=\"Loading\\xe2\\x80\\xa6\" class=\"css-1dbjc4n r-14lw9ot r-1p0dtai r-1d2f490 r-1xcajam r-zchlnj r-ipm5af\" id=\"placeholder\"><svg viewBox=\"0 0 24 24\" class=\"r-1p0dtai r-13gxpu9 r-4qtqp9 r-yyyyoo r-wy61xf r-1d2f490 r-ywje51 r-dnmrzs r-u8s1d r-zchlnj r-1plcrui r-ipm5af r-lrvibr r-1blnp2b\"><g><path d=\"M23.643 4.937c-.835.37-1.732.62-2.675.733.962-.576 1.7-1.49 2.048-2.578-.9.534-1.897.922-2.958 1.13-.85-.904-2.06-1.47-3.4-1.47-2.572 0-4.658 2.086-4.658 4.66 0 .364.042.718.12 1.06-3.873-.195-7.304-2.05-9.602-4.868-.4.69-.63 1.49-.63 2.342 0 1.616.823 3.043 2.072 3.878-.764-.025-1.482-.234-2.11-.583v.06c0 2.257 1.605 4.14 3.737 4.568-.392.106-.803.162-1.227.162-.3 0-.593-.028-.877-.082.593 1.85 2.313 3.198 4.352 3.234-1.595 1.25-3.604 1.995-5.786 1.995-.376 0-.747-.022-1.112-.065 2.062 1.323 4.51 2.093 7.14 2.093 8.57 0 13.255-7.098 13.255-13.254 0-.2-.005-.402-.014-.602.91-.658 1.7-1.477 2.323-2.41z\"></path></g></svg></div><div class=\"css-1dbjc4n r-hvic4v r-1d2f490 r-1xcajam r-zchlnj r-1ykxob0\" id=\"ScriptLoadFailure\"><form action=\"\" method=\"GET\"><div dir=\"auto\" class=\"css-901oao r-1adg3ll r-1b2b6em r-q4m81j\"><span class=\"css-901oao css-16my406\">Something went wrong, but don\\xe2\\x80\\x99t fret \\xe2\\x80\\x94 let\\xe2\\x80\\x99s give it another shot.</span><br/><input type=\"hidden\" name=\"failedScript\" value=\"\"/><input type=\"submit\" value=\"Try again\"/></div></form></div></div></div></div>\\n<script nonce=\"NWU3ZTA3ZGEtNWEwYS00YzRiLTk1NWEtNGJmOWU2M2ZiY2Qz\">\\nwindow.__INITIAL_STATE__ = {\"optimist\":[],\"featureSwitch\":{\"config\":{\"2fa_multikey_management_enabled\":{\"value\":false},\"account_country_setting_countries_whitelist\":{\"value\":[\"ad\",\"ae\",\"af\",\"ag\",\"ai\",\"al\",\"am\",\"ao\",\"ar\",\"as\",\"at\",\"au\",\"aw\",\"ax\",\"az\",\"ba\",\"bb\",\"bd\",\"be\",\"bf\",\"bg\",\"bh\",\"bi\",\"bj\",\"bl\",\"bm\",\"bn\",\"bo\",\"bq\",\"br\",\"bs\",\"bt\",\"bv\",\"bw\",\"by\",\"bz\",\"ca\",\"cc\",\"cd\",\"cf\",\"cg\",\"ch\",\"ci\",\"ck\",\"cl\",\"cm\",\"co\",\"cr\",\"cu\",\"cv\",\"cw\",\"cx\",\"cy\",\"cz\",\"de\",\"dj\",\"dk\",\"dm\",\"do\",\"dz\",\"ec\",\"ee\",\"eg\",\"er\",\"es\",\"et\",\"fi\",\"fj\",\"fk\",\"fm\",\"fo\",\"fr\",\"ga\",\"gb\",\"gd\",\"ge\",\"gf\",\"gg\",\"gh\",\"gi\",\"gl\",\"gm\",\"gn\",\"gp\",\"gq\",\"gr\",\"gs\",\"gt\",\"gu\",\"gw\",\"gy\",\"hk\",\"hn\",\"hr\",\"ht\",\"hu\",\"id\",\"ie\",\"il\",\"im\",\"in\",\"io\",\"iq\",\"ir\",\"is\",\"it\",\"je\",\"jm\",\"jo\",\"jp\",\"ke\",\"kg\",\"kh\",\"ki\",\"km\",\"kn\",\"kr\",\"kw\",\"ky\",\"kz\",\"la\",\"lb\",\"lc\",\"li\",\"lk\",\"lr\",\"ls\",\"lt\",\"lu\",\"lv\",\"ly\",\"ma\",\"mc\",\"md\",\"me\",\"mf\",\"mg\",\"mh\",\"mk\",\"ml\",\"mn\",\"mo\",\"mp\",\"mq\",\"mr\",\"ms\",\"mt\",\"mu\",\"mv\",\"mw\",\"mx\",\"my\",\"mz\",\"na\",\"nc\",\"ne\",\"nf\",\"ng\",\"ni\",\"nl\",\"no\",\"np\",\"nr\",\"nu\",\"nz\",\"om\",\"pa\",\"pe\",\"pf\",\"pg\",\"ph\",\"pk\",\"pl\",\"pm\",\"pn\",\"pr\",\"ps\",\"pt\",\"pw\",\"py\",\"qa\",\"re\",\"ro\",\"rs\",\"ru\",\"rw\",\"sa\",\"sb\",\"sc\",\"se\",\"sg\",\"sh\",\"si\",\"sk\",\"sl\",\"sm\",\"sn\",\"so\",\"sr\",\"st\",\"sv\",\"sx\",\"sz\",\"tc\",\"td\",\"tf\",\"tg\",\"th\",\"tj\",\"tk\",\"tl\",\"tm\",\"tn\",\"to\",\"tr\",\"tt\",\"tv\",\"tw\",\"tz\",\"ua\",\"ug\",\"us\",\"uy\",\"uz\",\"va\",\"vc\",\"ve\",\"vi\",\"vn\",\"vu\",\"wf\",\"ws\",\"xk\",\"ye\",\"yt\",\"za\",\"zm\",\"zw\"]},\"author_moderated_replies_urt_container_enabled\":{\"value\":false},\"content_language_setting_enabled\":{\"value\":true},\"conversation_controls_flexible_participation_enabled\":{\"value\":false},\"conversation_controls_flexible_participation_reply_enabled\":{\"value\":true},\"conversation_controls_limited_replies_consumption_configuration\":{\"value\":\"no_reply\"},\"conversation_controls_limited_replies_creation_enabled\":{\"value\":true},\"conversation_controls_notifying_participants_enabled\":{\"value\":true},\"dm_conversations_muting_enabled\":{\"value\":false},\"dm_conversations_nsfw_media_filter_enabled\":{\"value\":false},\"dm_reactions_config_active_reactions\":{\"value\":[\"\\xf0\\x9f\\x98\\x82:funny\",\"\\xf0\\x9f\\x98\\xb2:surprised\",\"\\xf0\\x9f\\x98\\xa2:sad\",\"\\xe2\\x9d\\xa4:like\",\"\\xf0\\x9f\\x94\\xa5:excited\",\"\\xf0\\x9f\\x91\\x8d:agree\",\"\\xf0\\x9f\\x91\\x8e:disagree\"]},\"dm_reactions_config_inactive_reactions\":{\"value\":[\"\\xf0\\x9f\\x98\\xa0:angry\",\"\\xf0\\x9f\\x98\\xb7:mask\"]},\"dm_voice_rendering_enabled\":{\"value\":true},\"employee_role\":{\"value\":false},\"explore_settings_trends_policy_url\":{\"value\":\"\"},\"guest_broadcasting_timeline_decorations_enabled\":{\"value\":true},\"hashflags_animation_like_button_enabled\":{\"value\":true},\"home_timeline_latest_timeline_autoswitch_half_life_minutes\":{\"value\":43200},\"home_timeline_latest_timeline_autoswitch_threshold_multiplier\":{\"value\":2},\"home_timeline_latest_timeline_max_time_to_autoswitch_minutes\":{\"value\":5256000},\"home_timeline_latest_timeline_min_time_to_autoswitch_minutes\":{\"value\":5256000},\"home_timeline_latest_timeline_switch_enabled\":{\"value\":true},\"home_timeline_latest_timeline_threshold_to_increase_autoswitch_seconds\":{\"value\":60},\"home_timeline_spheres_copy_variant\":{\"value\":\"list_follow\"},\"home_timeline_spheres_custom_banner_image_reads_enabled\":{\"value\":true},\"home_timeline_spheres_detail_page_muting_enabled\":{\"value\":true},\"home_timeline_spheres_list_cell_thumbnail_enabled\":{\"value\":true},\"home_timeline_spheres_max_user_owned_or_subscribed_lists_count\":{\"value\":5},\"home_timeline_spheres_ranking_mode_control_enabled\":{\"value\":true},\"identity_verification_debadging_notification_enabled\":{\"value\":false},\"identity_verification_intake_enabled\":{\"value\":false},\"list_management_page_urt_timeline_enabled\":{\"value\":false},\"live_event_docking_enabled\":{\"value\":true},\"live_event_extra_attribution_enabled\":{\"value\":false},\"live_event_multi_video_auto_advance_dock_enabled\":{\"value\":true},\"live_event_multi_video_auto_advance_enabled\":{\"value\":true},\"live_event_multi_video_auto_advance_fullscreen_enabled\":{\"value\":false},\"live_event_multi_video_auto_advance_transition_duration_seconds\":{\"value\":5},\"live_event_multi_video_enabled\":{\"value\":true},\"live_event_timeline_default_refresh_rate_interval_seconds\":{\"value\":30},\"live_event_timeline_minimum_refresh_rate_interval_seconds\":{\"value\":10},\"live_event_timeline_server_controlled_refresh_rate_enabled\":{\"value\":true},\"livepipeline_client_enabled\":{\"value\":true},\"livepipeline_dm_features_enabled\":{\"value\":true},\"livepipeline_tweetengagement_enabled\":{\"value\":true},\"moment_annotations_enabled\":{\"value\":true},\"network_layer_503_backoff_mode\":{\"value\":\"host\"},\"project_friday_enabled\":{\"value\":true},\"responsive_web_alt_svc\":{\"value\":false},\"responsive_web_alt_text_badge_enabled\":{\"value\":false},\"responsive_web_api_transition_enabled\":{\"value\":false},\"responsive_web_auto_logout_multiaccount_enabled\":{\"value\":true},\"responsive_web_auto_logout_restrictedauthtoken_enabled\":{\"value\":true},\"responsive_web_auto_logout_twid_enabled\":{\"value\":true},\"responsive_web_birdwatch_consumption_enabled\":{\"value\":false},\"responsive_web_birdwatch_contribution_enabled\":{\"value\":false},\"responsive_web_birdwatch_hcomp_user\":{\"value\":false},\"responsive_web_branch_cpid_enabled\":{\"value\":true},\"responsive_web_branch_sdk_enabled\":{\"value\":true},\"responsive_web_card_preload_mode\":{\"value\":\"prerender\"},\"responsive_web_carousels_convert_to_single_media\":{\"value\":false},\"responsive_web_check_browser_support_enabled\":{\"value\":true},\"responsive_web_cleanup_macaw_swift_indexed_db\":{\"value\":true},\"responsive_web_constrained_viewport_enabled\":{\"value\":false},\"responsive_web_continue_as_always_enabled\":{\"value\":false},\"responsive_web_continue_as_param_enabled\":{\"value\":true},\"responsive_web_conversation_tree_enabled\":{\"value\":false},\"responsive_web_conversation_tree_toggle\":{\"value\":false},\"responsive_web_csrf_clientside_enabled\":{\"value\":true},\"responsive_web_dcm_2_enabled\":{\"value\":true},\"responsive_web_dm_health_inbox_request_cell_social_proof_enabled\":{\"value\":false},\"responsive_web_dm_health_settings_update\":{\"value\":true},\"responsive_web_dm_health_snooze_rename\":{\"value\":true},\"responsive_web_dm_quick_access_enabled\":{\"value\":true},\"responsive_web_dm_quick_access_no_empty_drawer_enabled\":{\"value\":true},\"responsive_web_dm_quick_access_with_close_enabled\":{\"value\":false},\"responsive_web_eu_compliance_double_click_disabled\":{\"value\":false},\"responsive_web_eu_compliance_ga_disabled\":{\"value\":false},\"responsive_web_eu_compliance_player_card_disabled\":{\"value\":false},\"responsive_web_eu_compliance_sentry_disabled\":{\"value\":false},\"responsive_web_eu_countries\":{\"value\":[\"at\",\"be\",\"bg\",\"ch\",\"cy\",\"cz\",\"de\",\"dk\",\"ee\",\"es\",\"fi\",\"fr\",\"gb\",\"gr\",\"hr\",\"hu\",\"ie\",\"is\",\"it\",\"li\",\"lt\",\"lu\",\"lv\",\"mt\",\"nl\",\"no\",\"pl\",\"pt\",\"ro\",\"se\",\"si\",\"sk\"]},\"responsive_web_events_page_horizon_video_enabled\":{\"value\":true},\"responsive_web_extension_compatibility_hide\":{\"value\":false},\"responsive_web_extension_compatibility_impression_guard\":{\"value\":true},\"responsive_web_extension_compatibility_override_param\":{\"value\":false},\"responsive_web_extension_compatibility_scribe\":{\"value\":true},\"responsive_web_extension_compatibility_size_threshold\":{\"value\":50},\"responsive_web_fake_root_twitter_domain_for_testing\":{\"value\":false},\"responsive_web_fetch_hashflags_on_boot\":{\"value\":true},\"responsive_web_fleets_dm_consumption_enabled\":{\"value\":false},\"responsive_web_fleets_notification_screen_enabled\":{\"value\":false},\"responsive_web_fleets_viewer_screen_enabled\":{\"value\":false},\"responsive_web_framerate_tracking_home_enabled\":{\"value\":false},\"responsive_web_graphql_amr_timeline\":{\"value\":false},\"responsive_web_graphql_bookmarks\":{\"value\":false},\"responsive_web_graphql_conversations_enabled\":{\"value\":false},\"responsive_web_graphql_dark_reads_probability\":{\"value\":0},\"responsive_web_graphql_liked_by\":{\"value\":true},\"responsive_web_graphql_likes_timeline\":{\"value\":false},\"responsive_web_graphql_list_crud\":{\"value\":true},\"responsive_web_graphql_list_management_timelines_enabled\":{\"value\":false},\"responsive_web_graphql_list_members_subscribers_enabled\":{\"value\":false},\"responsive_web_graphql_list_operations\":{\"value\":false},\"responsive_web_graphql_profile_timeline\":{\"value\":false},\"responsive_web_graphql_redux_module_users\":{\"value\":false},\"responsive_web_graphql_retweeted_by\":{\"value\":true},\"responsive_web_graphql_rux_landing_enabled\":{\"value\":false},\"responsive_web_graphql_tweet_results\":{\"value\":false},\"responsive_web_graphql_user_by_rest_id\":{\"value\":false},\"responsive_web_graphql_user_profile_screen\":{\"value\":false},\"responsive_web_graphql_user_results\":{\"value\":false},\"responsive_web_graphql_users_by_rest_ids\":{\"value\":false},\"responsive_web_guest_token_reporting\":{\"value\":true},\"responsive_web_hoisting_anchor_invalidation_enabled\":{\"value\":false},\"responsive_web_horizon_video_player_enabled\":{\"value\":true},\"responsive_web_hover_on_mousemove_enabled\":{\"value\":false},\"responsive_web_html_archive_renderer_enabled\":{\"value\":true},\"responsive_web_inline_login_box_enabled\":{\"value\":\"full\"},\"responsive_web_inline_reply_enabled\":{\"value\":false},\"responsive_web_inline_reply_with_fab_enabled\":{\"value\":false},\"responsive_web_instream_video_redesign_enabled\":{\"value\":false},\"responsive_web_left_nav_refresh_connect_enabled\":{\"value\":false},\"responsive_web_left_nav_refresh_topics_enabled\":{\"value\":false},\"responsive_web_list_hover_cards_enabled\":{\"value\":true},\"responsive_web_live_video_parity_periscope_auth_enabled\":{\"value\":false},\"responsive_web_login_input_type_email_enabled\":{\"value\":false},\"responsive_web_login_signup_sheet_app_install_cta_enabled\":{\"value\":false},\"responsive_web_media_upload_limit_2g\":{\"value\":250},\"responsive_web_media_upload_limit_3g\":{\"value\":1500},\"responsive_web_media_upload_limit_slow_2g\":{\"value\":150},\"responsive_web_media_upload_md5_hashing_enabled\":{\"value\":false},\"responsive_web_media_upload_target_jpg_pixels_per_byte\":{\"value\":6},\"responsive_web_menu_section_divider_enabled\":{\"value\":false},\"responsive_web_modal_close_enabled\":{\"value\":false},\"responsive_web_moment_maker_annotations_enabled\":{\"value\":false},\"responsive_web_moment_maker_enabled\":{\"value\":false},\"responsive_web_multiple_account_limit\":{\"value\":5},\"responsive_web_mute_unmute_toast_with_user_screen_name_enabled\":{\"value\":true},\"responsive_web_new_client_events_enabled\":{\"value\":false},\"responsive_web_new_copy_security_key_2fa_enabled\":{\"value\":false},\"responsive_web_ntab_verified_mentions_vit_internal_dogfood\":{\"value\":false},\"responsive_web_ocf_sms_autoverify_enabled\":{\"value\":false},\"responsive_web_prerolls_fullscreen_disabled_on_ios\":{\"value\":false},\"responsive_web_promoted_tweet_param_append_enabled\":{\"value\":true},\"responsive_web_promoted_tweet_url_rewrite_enabled\":{\"value\":false},\"responsive_web_quick_promote_enabled\":{\"value\":false},\"responsive_web_report_page_not_found\":{\"value\":false},\"responsive_web_rich_tweet_landing_enabled\":{\"value\":true},\"responsive_web_scroller_autopoll_enabled\":{\"value\":false},\"responsive_web_scroller_v3_enabled\":{\"value\":false},\"responsive_web_search_dms_enabled\":{\"value\":true},\"responsive_web_second_degree_replies_nudge_force_enabled\":{\"value\":false},\"responsive_web_second_degree_replies_nudge_get_enabled\":{\"value\":false},\"responsive_web_second_degree_replies_nudge_show_enabled\":{\"value\":false},\"responsive_web_serviceworker_safari_disabled\":{\"value\":false},\"responsive_web_settings_revamp_enabled\":{\"value\":false},\"responsive_web_settings_timeline_polling_enabled\":{\"value\":false},\"responsive_web_settings_timeline_polling_interval_ms\":{\"value\":0},\"responsive_web_settings_timeline_refresh_background_interval\":{\"value\":0},\"responsive_web_settings_timeline_refresh_enabled\":{\"value\":false},\"responsive_web_settings_timeline_refresh_instant_default\":{\"value\":true},\"responsive_web_sports_carousel\":{\"value\":false},\"responsive_web_suggested_follows_tab_candidate_source\":{\"value\":\"combined\"},\"responsive_web_suggested_follows_tab_enabled\":{\"value\":false},\"responsive_web_trends_setting_new_endpoints\":{\"value\":true},\"responsive_web_trigger_test_backoff_on_bookmark\":{\"value\":false},\"responsive_web_tweets_pill_local_enabled\":{\"value\":true},\"responsive_web_unsupported_entry_tombstone\":{\"value\":false},\"responsive_web_use_app_prompt_copy_variant\":{\"value\":\"prompt_better\"},\"responsive_web_use_app_prompt_enabled\":{\"value\":true},\"responsive_web_verification_v2_enabled\":{\"value\":true},\"responsive_web_video_pcomplete_enabled\":{\"value\":true},\"responsive_web_video_promoted_logging_enabled\":{\"value\":true},\"responsive_web_vod_muted_captions_enabled\":{\"value\":true},\"responsive_web_vs_config_desktop_assumed_item_height\":{\"value\":100},\"responsive_web_vs_config_resize_observer_enabled\":{\"value\":true},\"responsive_web_zipkin_api_requests_enabled\":{\"value\":false},\"responsive_web_zipkin_api_requests_paths_allowlist\":{\"value\":[\"/2/timeline/home.json\"]},\"rito_smart_block_list_enabled\":{\"value\":false},\"scribe_api_error_sample_size\":{\"value\":0},\"scribe_api_sample_size\":{\"value\":100},\"scribe_cdn_host_list\":{\"value\":[\"si0.twimg.com\",\"si1.twimg.com\",\"si2.twimg.com\",\"si3.twimg.com\",\"a0.twimg.com\",\"a1.twimg.com\",\"a2.twimg.com\",\"a3.twimg.com\",\"abs.twimg.com\",\"amp.twimg.com\",\"o.twimg.com\",\"pbs.twimg.com\",\"pbs-eb.twimg.com\",\"pbs-ec.twimg.com\",\"pbs-v6.twimg.com\",\"pbs-h1.twimg.com\",\"pbs-h2.twimg.com\",\"video.twimg.com\",\"platform.twitter.com\",\"cdn.api.twitter.com\",\"ton.twimg.com\",\"v.cdn.vine.co\",\"mtc.cdn.vine.co\",\"edge.vncdn.co\",\"mid.vncdn.co\"]},\"scribe_cdn_sample_size\":{\"value\":50},\"search_channels_description_enabled\":{\"value\":true},\"search_channels_discovery_page_enabled\":{\"value\":false},\"soft_interventions_like_nudge_enabled\":{\"value\":false},\"soft_interventions_retweet_nudge_enabled\":{\"value\":true},\"topic_landing_page_enabled\":{\"value\":true},\"topic_landing_page_share_enabled\":{\"value\":true},\"topics_discovery_page_enabled\":{\"value\":false},\"topics_discovery_topic_picker_page_enabled\":{\"value\":false},\"topics_new_social_context_bottom_border_enabled\":{\"value\":true},\"topics_new_social_context_enabled\":{\"value\":true},\"topics_new_social_context_icon_color_enabled\":{\"value\":false},\"topics_peek_home_enabled\":{\"value\":false},\"topics_peek_search_enabled\":{\"value\":false},\"topics_tweet_details_recommended_topic_context_enabled\":{\"value\":false},\"traffic_rewrite_map\":{\"value\":[]},\"tweet_limited_actions_config_enabled\":{\"value\":true},\"tweet_limited_actions_config_non_compliant\":{\"value\":[\"reply\",\"retweet\",\"like\",\"send_via_dm\",\"add_to_bookmarks\",\"add_to_moment\",\"pin_to_profile\",\"view_tweet_activity\",\"share_tweet_via\"]},\"unified_cards_cta_color_blue_cta\":{\"value\":true},\"user_display_name_max_limit\":{\"value\":50},\"voice_consumption_enabled\":{\"value\":false},\"web_video_bitrate_persistence_enabled\":{\"value\":false},\"web_video_hls_android_mse_enabled\":{\"value\":true},\"web_video_hls_mp4_threshold_sec\":{\"value\":0},\"web_video_hlsjs_version\":{\"value\":\"\"},\"web_video_prefetch_playlist_autoplay_disabled\":{\"value\":false}},\"debug\":{},\"impression_pointers\":{\"responsive_web_ocf_sms_autoverify_enabled\":[\"onboarding_chrome_sms_autoverify_9851\"]},\"impressions\":{\"onboarding_chrome_sms_autoverify_9851\":{\"key\":\"onboarding_chrome_sms_autoverify_9851\",\"bucket\":\"control\",\"version\":7}},\"featureSetToken\":\"abb2732154e087fe12b1b44bca097bfc555fea41\",\"isLoaded\":true,\"isLoading\":false,\"keysRead\":{},\"settingsVersion\":\"bf0493cc5140da0d2bdde9fb0a0f3cc1\"},\"toasts\":[],\"devices\":{\"browserPush\":{\"fetchStatus\":\"none\",\"pushNotificationsPrompt\":{\"dismissed\":false,\"fetchStatus\":\"none\"},\"subscribed\":false,\"supported\":null},\"devices\":{\"data\":{\"emails\":[],\"phone_numbers\":[]},\"fetchStatus\":\"none\"},\"notificationSettings\":{\"push_settings\":{\"error\":null,\"fetchStatus\":\"none\"},\"push_settings_template\":{\"template\":{\"settings\":[]}},\"sms_settings\":{\"error\":null,\"fetchStatus\":\"none\"},\"sms_settings_template\":{\"template\":{\"settings\":[]}},\"checkin_time\":null}},\"entities\":{\"users\":{\"entities\":{},\"errors\":{},\"fetchStatus\":{}},\"tweets\":{\"entities\":{},\"errors\":{},\"fetchStatus\":{}},\"cards\":{\"entities\":{},\"errors\":{},\"fetchStatus\":{}},\"moments\":{\"entities\":{},\"errors\":{},\"fetchStatus\":{}},\"imageCache\":{\"entities\":{},\"errors\":{},\"fetchStatus\":{}},\"lists\":{\"entities\":{},\"errors\":{},\"fetchStatus\":{}}},\"typeaheadUsers\":{\"fetchStatus\":\"none\",\"users\":{},\"denylist\":{},\"lastUpdated\":0,\"index\":{}},\"session\":{\"country\":\"FR\",\"emailLiteLoginEligibility\":{\"fetchStatus\":\"none\"},\"guestId\":\"160614603951406032\",\"language\":\"en\",\"oneFactorLoginEligibility\":{\"fetchStatus\":\"none\"}},\"settings\":{\"local\":{\"nextPushCheckin\":0,\"shouldAutoPlayGif\":false,\"scale\":\"normal\",\"themeColor\":\"blue\",\"highContrastEnabled\":false,\"themeBackground\":\"light\",\"loginPromptLastShown\":0,\"reducedMotionEnabled\":false,\"conversationTreeEnabled\":false,\"showTweetMediaDetailDrawer\":true,\"autoPollNewTweets\":false},\"remote\":{\"settings\":{\"display_sensitive_media\":false},\"fetchStatus\":\"none\"},\"dataSaver\":{\"dataSaverMode\":false},\"transient\":{\"dtabBarInfo\":{\"hide\":false},\"loginPromptShown\":false,\"lastViewedDmInboxPath\":\"/messages\",\"themeFocus\":\"\"}},\"urt\":{},\"hashflags\":{\"fetchStatus\":\"none\",\"hashflags\":{}},\"friendships\":{\"pendingFollowers\":{\"acceptedIds\":[],\"ids\":[],\"fetchStatus\":{\"bottom\":\"none\",\"top\":\"none\"},\"hydratedIds\":[]}},\"homeTimeline\":{\"useLatest\":false,\"fetchStatus\":\"none\"},\"multiAccount\":{\"fetchStatus\":\"none\",\"users\":[],\"badgeCounts\":{},\"addAccountFetchStatus\":\"none\"},\"badgeCount\":{\"unreadDMCount\":0},\"ocf_location\":{\"startLocation\":{}},\"navigation\":{},\"teams\":{\"fetchStatus\":\"none\",\"teams\":{}},\"cardState\":{},\"mediaUpload\":[],\"listMembers\":{},\"listMemberships\":{},\"listSubscribers\":{},\"pinnedLists\":{\"local\":[],\"remote\":[],\"count\":null},\"channelsTimelineBehavior\":{},\"tips\":{}};\\nwindow.__META_DATA__ = {\"env\":\"prod\",\"isFromDynamicRenderer\":false,\"isLoggedIn\":false,\"isRTL\":false,\"hasMultiAccountCookie\":false,\"uaParserTags\":[\"m2\",\"rweb_unsupported\",\"msw\"],\"serverDate\":1606146039569,\"sha\":\"e72e5bf2eb5209fe7609edb90a36e217cf4dcdfa\"};\\n</script>\\n<script id=\"nonce-csp\" nonce=\"NWU3ZTA3ZGEtNWEwYS00YzRiLTk1NWEtNGJmOWU2M2ZiY2Qz\"></script><script type=\"text/javascript\" charset=\"utf-8\" nonce=\"NWU3ZTA3ZGEtNWEwYS00YzRiLTk1NWEtNGJmOWU2M2ZiY2Qz\">\\n  window.__SCRIPTS_LOADED__ = {};\\n  !function(e){function n(n){for(var o,t,i=n[0],l=n[1],c=n[2],s=0,m=[];s<i.length;s++)t=i[s],Object.prototype.hasOwnProperty.call(a,t)&&a[t]&&m.push(a[t][0]),a[t]=0;for(o in l)Object.prototype.hasOwnProperty.call(l,o)&&(e[o]=l[o]);for(u&&u(n);m.length;)m.shift()();return r.push.apply(r,c||[]),d()}function d(){for(var e,n=0;n<r.length;n++){for(var d=r[n],o=!0,i=1;i<d.length;i++){var l=d[i];0!==a[l]&&(o=!1)}o&&(r.splice(n--,1),e=t(t.s=d[0]))}return e}var o={},a={1:0},r=[];function t(n){if(o[n])return o[n].exports;var d=o[n]={i:n,l:!1,exports:{}};return e[n].call(d.exports,d,d.exports,t),d.l=!0,d.exports}t.e=function(e){var n=[],d=a[e];if(0!==d)if(d)n.push(d[2]);else{var o=new Promise((function(n,o){d=a[e]=[n,o]}));n.push(d[2]=o);var r,i=document.createElement(\"script\");i.charset=\"utf-8\",i.timeout=120,t.nc&&i.setAttribute(\"nonce\",t.nc),i.src=function(e){return t.p+\"\"+({0:\"sharedCore\",3:\"shared~loader.DMDrawer~bundle.Compose~bundle.RichTextCompose~bundle.DirectMessages~bundle.DMRichTextCompose~b\",4:\"shared~bundle.Settings~ondemand.SettingsInternals~bundle.SettingsTransparency~bundle.SettingsRevamp~ondemand.\",5:\"shared~bundle.ComposeMedia~bundle.Ocf~bundle.SettingsProfile~bundle.UserLists\",6:\"shared~bundle.Compose~bundle.RichTextCompose~ondemand.ComposeScheduling~bundle.PlainTextCompose\",7:\"shared~bundle.MultiAccount~bundle.Login~bundle.LoggedOutHome~ondemand.IntentPrompt\",8:\"shared~bundle.Settings~ondemand.SettingsInternals~bundle.SettingsTransparency~bundle.SettingsRevamp\",9:\"shared~bundle.DirectMessages~bundle.TweetMediaDetail~bundle.UserAvatar\",10:\"shared~bundle.Place~bundle.Search~bundle.QuoteTweetActivity\",11:\"shared~bundle.RichTextCompose~bundle.DMRichTextCompose~ondemand.RichText\",12:\"shared~loader.DMDrawer~bundle.DirectMessages~bundle.DMRichTextCompose\",13:\"shared~bundle.Compose~bundle.PlainTextCompose\",14:\"shared~bundle.Display~bundle.Settings\",15:\"shared~bundle.Explore~loader.ExploreSidebar\",16:\"shared~bundle.LiveEvent~bundle.UserMoments\",17:\"shared~bundle.Ocf~bundle.SettingsProfile\",18:\"shared~bundle.TopicPeek~ondemand.EmojiPicker\",19:\"shared~loader.DashMenu~bundle.Account\",20:\"shared~loader.Typeahead~bundle.UserLists\",21:\"shared~loaders.video.VideoPlayerDefaultUI~loaders.video.VideoPlayerEventsUI\",22:\"shared~ondemand.EmojiPickerData~ondemand.EmojiPicker\",23:\"shared~ondemand.GraphQLModule~ondemand.UserProfileGraphQL\",24:\"shared~ondemand.InlinePlayer~loader.AudioOnlyVideoPlayer\",25:\"shared~ondemand.SettingsInternals~ondemand.SettingsRevamp\",26:\"bundle.AboutThisAd\",27:\"bundle.Account\",28:\"bundle.AccountVerificationNotification\",29:\"bundle.AdvancedSearch\",30:\"bundle.Birdwatch\",31:\"bundle.Bookmarks\",32:\"bundle.Collection\",33:\"bundle.Compose\",34:\"bundle.ComposeMedia\",35:\"bundle.ConnectTab\",36:\"bundle.Conversation\",37:\"bundle.ConversationParticipants\",38:\"bundle.DMRichTextCompose\",39:\"bundle.DirectMessages\",40:\"bundle.Display\",41:\"bundle.Download\",42:\"bundle.Explore\",43:\"bundle.ExploreTopics\",44:\"bundle.FleetsNotification\",45:\"bundle.FollowerRequests\",46:\"bundle.GenericTimeline\",47:\"bundle.GifSearch\",48:\"bundle.HomeTimeline\",49:\"bundle.KeyboardShortcuts\",50:\"bundle.LiveEvent\",51:\"bundle.LoggedOutHome\",52:\"bundle.Login\",53:\"bundle.Logout\",54:\"bundle.Moment\",55:\"bundle.MomentMaker\",56:\"bundle.MultiAccount\",57:\"bundle.NetworkInstrument\",58:\"bundle.NewsLanding\",59:\"bundle.NotMyAccount\",60:\"bundle.NotificationDetail\",61:\"bundle.Notifications\",62:\"bundle.Ocf\",63:\"bundle.Place\",64:\"bundle.PlainTextCompose\",65:\"bundle.ProfileRedirect\",66:\"bundle.QuoteTweetActivity\",67:\"bundle.Report\",68:\"bundle.RichTextCompose\",69:\"bundle.Search\",70:\"bundle.Settings\",71:\"bundle.SettingsInternals\",72:\"bundle.SettingsProfile\",73:\"bundle.SettingsRevamp\",74:\"bundle.SettingsTransparency\",75:\"bundle.SmsLogin\",76:\"bundle.TopicPeek\",77:\"bundle.Topics\",78:\"bundle.Trends\",79:\"bundle.TweetActivity\",80:\"bundle.TweetMediaDetail\",81:\"bundle.TweetMediaTags\",82:\"bundle.Twitterversary\",83:\"bundle.UserAvatar\",84:\"bundle.UserFollowLists\",85:\"bundle.UserLists\",86:\"bundle.UserMoments\",87:\"bundle.UserProfile\",88:\"bundle.UserRedirect\",138:\"loader.AbsolutePower\",139:\"loader.AppModules\",140:\"loader.AudioOnlyVideoPlayer\",141:\"loader.DMDrawer\",142:\"loader.DashMenu\",143:\"loader.ExploreSidebar\",144:\"loader.FeedbackSheet\",145:\"loader.FeedbackTombstone\",146:\"loader.HWCard\",147:\"loader.NewTweetsPill\",148:\"loader.PeriscopeOverlay\",149:\"loader.ProfileClusterFollow\",150:\"loader.PushNotificationsPrompt\",151:\"loader.SideNav\",152:\"loader.SignupModule\",153:\"loader.TimelineRenderer\",154:\"loader.TweetCurationActionMenu\",155:\"loader.Typeahead\",156:\"loader.WideLayout\",157:\"loader.directMessagesData\",158:\"loader.graphQLDarkReads\",159:\"loader.personalizationData\",160:\"loaders.video.PlayerBase\",161:\"loaders.video.PlayerHls13\",162:\"loaders.video.PlayerUi\",163:\"loaders.video.VideoPlayerDefaultUI\",164:\"loaders.video.VideoPlayerEventsUI\",166:\"ondemand.Balloons\",167:\"ondemand.BranchSdk\",168:\"ondemand.CarouselScroller\",169:\"ondemand.ComposeScheduling\",170:\"ondemand.Dropdown\",171:\"ondemand.EditBirthdate\",172:\"ondemand.EditPinned\",173:\"ondemand.EmojiPicker\",174:\"ondemand.FleetMediaDetail\",175:\"ondemand.GraphQLModule\",176:\"ondemand.HoverCard\",177:\"ondemand.InlinePlayer\",178:\"ondemand.IntentPrompt\",179:\"ondemand.LottieWeb\",180:\"ondemand.MicrosoftInterface\",181:\"ondemand.ProfileSidebar\",182:\"ondemand.RichText\",183:\"ondemand.SettingsInternals\",184:\"ondemand.SettingsRevamp\",185:\"ondemand.UserProfileGraphQL\",186:\"ondemand.countries-ar\",187:\"ondemand.countries-bg\",188:\"ondemand.countries-bn\",189:\"ondemand.countries-ca\",190:\"ondemand.countries-cs\",191:\"ondemand.countries-da\",192:\"ondemand.countries-de\",193:\"ondemand.countries-el\",194:\"ondemand.countries-en\",195:\"ondemand.countries-en-GB\",196:\"ondemand.countries-es\",197:\"ondemand.countries-eu\",198:\"ondemand.countries-fa\",199:\"ondemand.countries-fi\",200:\"ondemand.countries-fil\",201:\"ondemand.countries-fr\",202:\"ondemand.countries-ga\",203:\"ondemand.countries-gl\",204:\"ondemand.countries-gu\",205:\"ondemand.countries-he\",206:\"ondemand.countries-hi\",207:\"ondemand.countries-hr\",208:\"ondemand.countries-hu\",209:\"ondemand.countries-id\",210:\"ondemand.countries-it\",211:\"ondemand.countries-ja\",212:\"ondemand.countries-kn\",213:\"ondemand.countries-ko\",214:\"ondemand.countries-mr\",215:\"ondemand.countries-ms\",216:\"ondemand.countries-nb\",217:\"ondemand.countries-nl\",218:\"ondemand.countries-pl\",219:\"ondemand.countries-pt\",220:\"ondemand.countries-ro\",221:\"ondemand.countries-ru\",222:\"ondemand.countries-sk\",223:\"ondemand.countries-sr\",224:\"ondemand.countries-sv\",225:\"ondemand.countries-ta\",226:\"ondemand.countries-th\",227:\"ondemand.countries-tr\",228:\"ondemand.countries-uk\",229:\"ondemand.countries-ur\",230:\"ondemand.countries-zh\",231:\"ondemand.countries-zh-Hant\",232:\"ondemand.emoji.ar\",233:\"ondemand.emoji.bg\",234:\"ondemand.emoji.bn\",235:\"ondemand.emoji.ca\",236:\"ondemand.emoji.cs\",237:\"ondemand.emoji.da\",238:\"ondemand.emoji.de\",239:\"ondemand.emoji.el\",240:\"ondemand.emoji.en\",241:\"ondemand.emoji.en-GB\",242:\"ondemand.emoji.en-ss\",243:\"ondemand.emoji.en-xx\",244:\"ondemand.emoji.es\",245:\"ondemand.emoji.eu\",246:\"ondemand.emoji.fa\",247:\"ondemand.emoji.fi\",248:\"ondemand.emoji.fil\",249:\"ondemand.emoji.fr\",250:\"ondemand.emoji.ga\",251:\"ondemand.emoji.gl\",252:\"ondemand.emoji.gu\",253:\"ondemand.emoji.he\",254:\"ondemand.emoji.hi\",255:\"ondemand.emoji.hr\",256:\"ondemand.emoji.hu\",257:\"ondemand.emoji.id\",258:\"ondemand.emoji.it\",259:\"ondemand.emoji.ja\",260:\"ondemand.emoji.kn\",261:\"ondemand.emoji.ko\",262:\"ondemand.emoji.mr\",263:\"ondemand.emoji.ms\",264:\"ondemand.emoji.nb\",265:\"ondemand.emoji.nl\",266:\"ondemand.emoji.pl\",267:\"ondemand.emoji.pt\",268:\"ondemand.emoji.ro\",269:\"ondemand.emoji.ru\",270:\"ondemand.emoji.sk\",271:\"ondemand.emoji.sr\",272:\"ondemand.emoji.sv\",273:\"ondemand.emoji.ta\",274:\"ondemand.emoji.th\",275:\"ondemand.emoji.tr\",276:\"ondemand.emoji.uk\",277:\"ondemand.emoji.ur\",278:\"ondemand.emoji.vi\",279:\"ondemand.emoji.zh\",280:\"ondemand.emoji.zh-Hant\",281:\"ondemand.framerateTracking\",282:\"ondemand.video.PlayerHls12\"}[e]||e)+\".\"+{0:\"540fb39\",3:\"345cdb4\",4:\"8d43285\",5:\"9bbaef2\",6:\"26a655a\",7:\"43b7a9e\",8:\"5375757\",9:\"4ebe091\",10:\"18188cc\",11:\"ce90fb3\",12:\"8099621\",13:\"de3b2bf\",14:\"8f9f0d2\",15:\"b65f68a\",16:\"f85198d\",17:\"b840854\",18:\"4ea3a27\",19:\"becbd01\",20:\"2085083\",21:\"ead0f70\",22:\"82d5a2d\",23:\"1fabd0d\",24:\"cfa5293\",25:\"5ea3297\",26:\"aa8bade\",27:\"2ce97b6\",28:\"22f1fa7\",29:\"72700ef\",30:\"425f098\",31:\"46f3b68\",32:\"6af0d72\",33:\"a246d1c\",34:\"ce9e06f\",35:\"445f0ab\",36:\"858da2f\",37:\"37298ca\",38:\"3f42fe7\",39:\"9879354\",40:\"c62a6af\",41:\"977d45a\",42:\"75cd52b\",43:\"14cd7db\",44:\"8a5d753\",45:\"45d2cbc\",46:\"06678f7\",47:\"3eb25d6\",48:\"fe8c088\",49:\"37d9008\",50:\"6343921\",51:\"446ec9d\",52:\"777b251\",53:\"c115888\",54:\"bb14787\",55:\"23342ba\",56:\"aca57ae\",57:\"e3ff3b2\",58:\"75ddc43\",59:\"7a5da91\",60:\"7d677bd\",61:\"43ba96b\",62:\"030dfed\",63:\"1206c78\",64:\"eed6c2a\",65:\"c610a74\",66:\"eed5e27\",67:\"54fcac6\",68:\"46dd479\",69:\"7e84843\",70:\"06dd76b\",71:\"f2049d2\",72:\"693a252\",73:\"f814e9d\",74:\"761491d\",75:\"c7b5db3\",76:\"35983e3\",77:\"65e3174\",78:\"527e06c\",79:\"626d486\",80:\"162cc98\",81:\"43b6633\",82:\"922cd11\",83:\"ba3fc16\",84:\"ed8dda2\",85:\"5c7b4cf\",86:\"baf879d\",87:\"e105611\",88:\"9397ab9\",138:\"4ab6bef\",139:\"b6c7258\",140:\"33cdf07\",141:\"dc963e0\",142:\"40990b8\",143:\"d6cbacf\",144:\"b643d14\",145:\"c13a2b2\",146:\"d1ae458\",147:\"6cf32d8\",148:\"0f23e4f\",149:\"142ca12\",150:\"e065204\",151:\"1fa9f3f\",152:\"340cd98\",153:\"23d1d64\",154:\"8656e53\",155:\"eae5719\",156:\"afdcf22\",157:\"cf45dfd\",158:\"6d8b7aa\",159:\"f6d1bf2\",160:\"01a031b\",161:\"0857f21\",162:\"192f64d\",163:\"4a91eb0\",164:\"e2c1e40\",166:\"5918c66\",167:\"d77a80d\",168:\"625b308\",169:\"6ac1551\",170:\"31a8ff1\",171:\"b263622\",172:\"b8ea0cf\",173:\"df355cd\",174:\"f6ed518\",175:\"47b9445\",176:\"79077f3\",177:\"dbefe1f\",178:\"c60f166\",179:\"eaa7faa\",180:\"f30aa3e\",181:\"cedffeb\",182:\"990c553\",183:\"f184dc0\",184:\"ea7de3b\",185:\"6308f9a\",186:\"5862ee0\",187:\"00d5174\",188:\"f31a1e7\",189:\"c99eb44\",190:\"ee6bfb6\",191:\"057f2bf\",192:\"541f893\",193:\"00efe7f\",194:\"2067bfb\",195:\"3ee1134\",196:\"10973cf\",197:\"e768f83\",198:\"74ed3ab\",199:\"e7a26bc\",200:\"44d2ee6\",201:\"1f35a21\",202:\"26721a6\",203:\"0b89212\",204:\"e2fea9f\",205:\"483acfa\",206:\"a44a58b\",207:\"6f88973\",208:\"e0c022c\",209:\"211d136\",210:\"09d41a9\",211:\"84ca0e1\",212:\"c178bdf\",213:\"dc655c3\",214:\"da9745d\",215:\"2e96618\",216:\"20ba0c7\",217:\"bbb9c7b\",218:\"f7650b3\",219:\"674e29a\",220:\"502a19e\",221:\"7dbf42b\",222:\"0e64e68\",223:\"ce4fb24\",224:\"5cf71d1\",225:\"1daca63\",226:\"a8a68d7\",227:\"61b4558\",228:\"dc92f6e\",229:\"07c6a8e\",230:\"164839a\",231:\"2365228\",232:\"946dd3b\",233:\"98f9276\",234:\"347ae7c\",235:\"c21022d\",236:\"6a64131\",237:\"d4c0849\",238:\"6a0e4ee\",239:\"c8bd41d\",240:\"d6b7e36\",241:\"5b6e37a\",242:\"3efb3dc\",243:\"87c1a72\",244:\"8c7969a\",245:\"dc89d2b\",246:\"552ae5f\",247:\"6d82f21\",248:\"dca70c2\",249:\"821e6d1\",250:\"9f10692\",251:\"9bff3ba\",252:\"4748be7\",253:\"9863e72\",254:\"c880ff1\",255:\"5a563ac\",256:\"0a06756\",257:\"49937b2\",258:\"6a96fb6\",259:\"8c55b41\",260:\"2cf1219\",261:\"6c697f8\",262:\"d827e52\",263:\"2cd5e90\",264:\"9bd7f6a\",265:\"b112e36\",266:\"9783015\",267:\"649cc57\",268:\"067f77c\",269:\"6fd43e7\",270:\"4054b59\",271:\"f8dbaa9\",272:\"43b39b9\",273:\"c4c7703\",274:\"a9efd44\",275:\"86219fc\",276:\"b365e90\",277:\"e2904d1\",278:\"900937c\",279:\"f30ef33\",280:\"8e65a15\",281:\"946e5f7\",282:\"d737fc0\"}[e]+\"5.js\"}(e);var l=new Error;r=function(n){i.onerror=i.onload=null,clearTimeout(c);var d=a[e];if(0!==d){if(d){var o=n&&(\"load\"===n.type?\"missing\":n.type),r=n&&n.target&&n.target.src;l.message=\"Loading chunk \"+e+\" failed.\\\\n(\"+o+\": \"+r+\")\",l.name=\"ChunkLoadError\",l.type=o,l.request=r,d[1](l)}a[e]=void 0}};var c=setTimeout((function(){r({type:\"timeout\",target:i})}),12e4);i.onerror=i.onload=r,document.head.appendChild(i)}return Promise.all(n)},t.m=e,t.c=o,t.d=function(e,n,d){t.o(e,n)||Object.defineProperty(e,n,{enumerable:!0,get:d})},t.r=function(e){\"undefined\"!=typeof Symbol&&Symbol.toStringTag&&Object.defineProperty(e,Symbol.toStringTag,{value:\"Module\"}),Object.defineProperty(e,\"__esModule\",{value:!0})},t.t=function(e,n){if(1&n&&(e=t(e)),8&n)return e;if(4&n&&\"object\"==typeof e&&e&&e.__esModule)return e;var d=Object.create(null);if(t.r(d),Object.defineProperty(d,\"default\",{enumerable:!0,value:e}),2&n&&\"string\"!=typeof e)for(var o in e)t.d(d,o,function(n){return e[n]}.bind(null,o));return d},t.n=function(e){var n=e&&e.__esModule?function(){return e.default}:function(){return e};return t.d(n,\"a\",n),n},t.o=function(e,n){return Object.prototype.hasOwnProperty.call(e,n)},t.p=\"https://abs.twimg.com/responsive-web/client-web-legacy/\",t.oe=function(e){throw e};var i=window.webpackJsonp=window.webpackJsonp||[],l=i.push.bind(i);i.push=n,i=i.slice();for(var c=0;c<i.length;c++)n(i[c]);var u=l;d()}([]),window.__SCRIPTS_LOADED__.runtime=!0;\\n//# sourceMappingURL=https://ton.twitter.com/responsive-web-internal/sourcemaps/client-web-legacy/runtime.9a80e705.js.map\\n</script>\\n<script type=\"text/javascript\" charset=\"utf-8\" nonce=\"NWU3ZTA3ZGEtNWEwYS00YzRiLTk1NWEtNGJmOWU2M2ZiY2Qz\" crossorigin=\"anonymous\" src=\"https://abs.twimg.com/responsive-web/client-web-legacy/polyfills.78d11e15.js\"></script>\\n<script type=\"text/javascript\" charset=\"utf-8\" nonce=\"NWU3ZTA3ZGEtNWEwYS00YzRiLTk1NWEtNGJmOWU2M2ZiY2Qz\" crossorigin=\"anonymous\" src=\"https://abs.twimg.com/responsive-web/client-web-legacy/vendors~main.68b1d365.js\"></script>\\n<script type=\"text/javascript\" charset=\"utf-8\" nonce=\"NWU3ZTA3ZGEtNWEwYS00YzRiLTk1NWEtNGJmOWU2M2ZiY2Qz\" crossorigin=\"anonymous\" src=\"https://abs.twimg.com/responsive-web/client-web-legacy/i18n/en.22d83a55.js\"></script>\\n<script type=\"text/javascript\" charset=\"utf-8\" nonce=\"NWU3ZTA3ZGEtNWEwYS00YzRiLTk1NWEtNGJmOWU2M2ZiY2Qz\" crossorigin=\"anonymous\" src=\"https://abs.twimg.com/responsive-web/client-web-legacy/main.b2552b65.js\"></script>\\n<script nonce=\"NWU3ZTA3ZGEtNWEwYS00YzRiLTk1NWEtNGJmOWU2M2ZiY2Qz\">\\n  (function () {\\n    if (!window.__SCRIPTS_LOADED__[\\'main\\']) {\\n      document.getElementById(\\'ScriptLoadFailure\\').style.display = \\'block\\';\\n      var criticalScripts = \\'polyfills,vendors~main,i18n,main\\'.split(\\',\\');\\n      var i;\\n      for (i = 0; i < criticalScripts.length; i++) {\\n        var criticalScript = criticalScripts[i];\\n        if (!window.__SCRIPTS_LOADED__[criticalScript]) {\\n          document.getElementsByName(\\'failedScript\\')[0].value = criticalScript\\n          break;\\n        }\\n      }\\n    }\\n  })();\\n</script>\\n<script nonce=\"NWU3ZTA3ZGEtNWEwYS00YzRiLTk1NWEtNGJmOWU2M2ZiY2Qz\">\\ndocument.cookie = decodeURIComponent(\"gt=1330899068688756736; Max-Age=10800; Domain=.twitter.com; Path=/; Secure\");\\n</script>'\n",
      "==========================================================================\n",
      "[]\n"
     ]
    }
   ],
   "source": [
    "#url = \"http://pythonscraping.com/pages/page1.html\"\n",
    "url = \"https://twitter.com/home\"\n",
    "html = requests.get(url) \n",
    "print(html.content)\n",
    "#print(type(res))\n",
    "#print(html.content) \n",
    "soup = BeautifulSoup(html.content , \"lxml\")\n",
    "print(\"==========================================================================\")\n",
    "print(soup.body.find_all(\"h1\"))\n"
   ]
  },
  {
   "cell_type": "markdown",
   "metadata": {},
   "source": [
    "***\n",
    "- ## R1"
   ]
  },
  {
   "cell_type": "code",
   "execution_count": 14,
   "metadata": {},
   "outputs": [],
   "source": [
    "\n",
    "# print(type(html))     # class 'http.client.HTTPResponse'                  \n",
    "# print(html.read()) #  Ts le contenu du fichier est stocké ds 1 \"chaîne de charactère\" format binaire\n",
    "# print(type(html.read()))\n",
    "#bsObj = BeautifulSoup(html.read(), 'lxml')\n",
    "# print(type(bsObj))\n",
    "# print(bsObj)\n",
    "\n",
    "#print(bsObj.html.body.h1)\n",
    "# print(bsObj.body.h1)\n",
    "# print(bsObj.html.h1)\n",
    "# print(bsObj.h1)\n",
    "# Les 4 derniers print() sont équivalents. \n",
    "#Je ne vs précise pas laquelle utiliser MAIS soyez cohérent tt au long de votre code.  "
   ]
  },
  {
   "cell_type": "code",
   "execution_count": 87,
   "metadata": {},
   "outputs": [
    {
     "name": "stdout",
     "output_type": "stream",
     "text": [
      "\n",
      "Lorem ipsum dolor sit amet, consectetur adipisicing elit, sed do eiusmod tempor incididunt ut labore et dolore magna aliqua. Ut enim ad minim veniam, quis nostrud exercitation ullamco laboris nisi ut aliquip ex ea commodo consequat. Duis aute irure dolor in reprehenderit in voluptate velit esse cillum dolore eu fugiat nulla pariatur. Excepteur sint occaecat cupidatat non proident, sunt in culpa qui officia deserunt mollit anim id est laborum.\n",
      "\n"
     ]
    }
   ],
   "source": [
    "# print(bsObj.html)\n",
    "# print(bsObj.head)\n",
    "# print(bsObj.head.title)\n",
    "# print(bsObj.title)\n",
    "# print(bsObj.body)\n",
    "# print(bsObj.div.text)"
   ]
  },
  {
   "cell_type": "code",
   "execution_count": 59,
   "metadata": {},
   "outputs": [
    {
     "name": "stdout",
     "output_type": "stream",
     "text": [
      "[]\n"
     ]
    }
   ],
   "source": [
    "#Donald Trump\n",
    "#print(soup.find('h1').text) # RealDonalTrump\n",
    "print(soup.findAll('h1'))  # [0]) #.text)\n",
    "\n",
    "# len(soup.findAll('h1'))\n",
    "for items in soup.findAll('h1') : \n",
    "   print(items)\n",
    "# print(soup.html)"
   ]
  },
  {
   "cell_type": "markdown",
   "metadata": {},
   "source": [
    "***\n",
    "## Réponse : ts les mots colorés en vert ?\n",
    "url2 = http://www.pythonscraping.com/pages/warandpeace.html  \n",
    "Ex : 1è mot en vert : Anna Pavlovna Scherer"
   ]
  },
  {
   "cell_type": "code",
   "execution_count": 19,
   "metadata": {},
   "outputs": [
    {
     "ename": "TypeError",
     "evalue": "object of type 'Response' has no len()",
     "output_type": "error",
     "traceback": [
      "\u001b[1;31m---------------------------------------------------------------------------\u001b[0m",
      "\u001b[1;31mTypeError\u001b[0m                                 Traceback (most recent call last)",
      "\u001b[1;32m<ipython-input-19-ed7374d085c3>\u001b[0m in \u001b[0;36m<module>\u001b[1;34m\u001b[0m\n\u001b[0;32m      1\u001b[0m \u001b[0murl\u001b[0m \u001b[1;33m=\u001b[0m \u001b[1;34m\"http://www.pythonscraping.com/pages/warandpeace.html\"\u001b[0m\u001b[1;33m\u001b[0m\u001b[1;33m\u001b[0m\u001b[0m\n\u001b[0;32m      2\u001b[0m \u001b[0mhtml\u001b[0m \u001b[1;33m=\u001b[0m \u001b[0mrequests\u001b[0m\u001b[1;33m.\u001b[0m\u001b[0mget\u001b[0m\u001b[1;33m(\u001b[0m\u001b[0murl\u001b[0m\u001b[1;33m)\u001b[0m\u001b[1;33m\u001b[0m\u001b[1;33m\u001b[0m\u001b[0m\n\u001b[1;32m----> 3\u001b[1;33m \u001b[0mbsObj\u001b[0m \u001b[1;33m=\u001b[0m \u001b[0mBeautifulSoup\u001b[0m\u001b[1;33m(\u001b[0m\u001b[0mhtml\u001b[0m\u001b[1;33m,\u001b[0m \u001b[1;34m\"lxml\"\u001b[0m\u001b[1;33m)\u001b[0m\u001b[1;33m\u001b[0m\u001b[1;33m\u001b[0m\u001b[0m\n\u001b[0m\u001b[0;32m      4\u001b[0m \u001b[1;31m# list_header = bsObj.findAll({\"h1\", \"h2\"})\u001b[0m\u001b[1;33m\u001b[0m\u001b[1;33m\u001b[0m\u001b[1;33m\u001b[0m\u001b[0m\n\u001b[0;32m      5\u001b[0m \u001b[1;31m# print(list_header)\u001b[0m\u001b[1;33m\u001b[0m\u001b[1;33m\u001b[0m\u001b[1;33m\u001b[0m\u001b[0m\n",
      "\u001b[1;32m~\\miniconda3\\envs\\r-tensorflow\\lib\\site-packages\\bs4\\__init__.py\u001b[0m in \u001b[0;36m__init__\u001b[1;34m(self, markup, features, builder, parse_only, from_encoding, exclude_encodings, element_classes, **kwargs)\u001b[0m\n\u001b[0;32m    305\u001b[0m         \u001b[1;32mif\u001b[0m \u001b[0mhasattr\u001b[0m\u001b[1;33m(\u001b[0m\u001b[0mmarkup\u001b[0m\u001b[1;33m,\u001b[0m \u001b[1;34m'read'\u001b[0m\u001b[1;33m)\u001b[0m\u001b[1;33m:\u001b[0m        \u001b[1;31m# It's a file-type object.\u001b[0m\u001b[1;33m\u001b[0m\u001b[1;33m\u001b[0m\u001b[0m\n\u001b[0;32m    306\u001b[0m             \u001b[0mmarkup\u001b[0m \u001b[1;33m=\u001b[0m \u001b[0mmarkup\u001b[0m\u001b[1;33m.\u001b[0m\u001b[0mread\u001b[0m\u001b[1;33m(\u001b[0m\u001b[1;33m)\u001b[0m\u001b[1;33m\u001b[0m\u001b[1;33m\u001b[0m\u001b[0m\n\u001b[1;32m--> 307\u001b[1;33m         elif len(markup) <= 256 and (\n\u001b[0m\u001b[0;32m    308\u001b[0m                 \u001b[1;33m(\u001b[0m\u001b[0misinstance\u001b[0m\u001b[1;33m(\u001b[0m\u001b[0mmarkup\u001b[0m\u001b[1;33m,\u001b[0m \u001b[0mbytes\u001b[0m\u001b[1;33m)\u001b[0m \u001b[1;32mand\u001b[0m \u001b[1;32mnot\u001b[0m \u001b[1;34mb'<'\u001b[0m \u001b[1;32min\u001b[0m \u001b[0mmarkup\u001b[0m\u001b[1;33m)\u001b[0m\u001b[1;33m\u001b[0m\u001b[1;33m\u001b[0m\u001b[0m\n\u001b[0;32m    309\u001b[0m                 \u001b[1;32mor\u001b[0m \u001b[1;33m(\u001b[0m\u001b[0misinstance\u001b[0m\u001b[1;33m(\u001b[0m\u001b[0mmarkup\u001b[0m\u001b[1;33m,\u001b[0m \u001b[0mstr\u001b[0m\u001b[1;33m)\u001b[0m \u001b[1;32mand\u001b[0m \u001b[1;32mnot\u001b[0m \u001b[1;34m'<'\u001b[0m \u001b[1;32min\u001b[0m \u001b[0mmarkup\u001b[0m\u001b[1;33m)\u001b[0m\u001b[1;33m\u001b[0m\u001b[1;33m\u001b[0m\u001b[0m\n",
      "\u001b[1;31mTypeError\u001b[0m: object of type 'Response' has no len()"
     ]
    }
   ],
   "source": [
    "url = \"http://www.pythonscraping.com/pages/warandpeace.html\"\n",
    "html = requests.get(url)\n",
    "bsObj = BeautifulSoup(html, \"lxml\")\n",
    "# list_header = bsObj.findAll({\"h1\", \"h2\"})\n",
    "# print(list_header)\n",
    "\n",
    "# for item in list_header : \n",
    "#     item.get_text() \n",
    "\n",
    "\n",
    "# list_div = bsObj.findAll(\"div\")\n",
    "# print(list_div)\n",
    "\n",
    "# list_span = bsObj.findAll(\"span\", limit = 5)\n",
    "# print(list_span)\n",
    "# (list_span)) # 5\n",
    "\n",
    "list_vert = bsObj.findAll({\"span\"}, {\"class\":\"green\"})\n",
    "# Rq : bsObj.findAll(tagName, tagAttributes) \n",
    "# print(list_vert)\n",
    "for name in list_vert :\n",
    "   print(name.get_text())\n",
    "\n",
    "#Q : Cmnt ça marche .get_text() ? \n",
    "#R : \n",
    "#.get_text() strips all tags from the document and returns a string containing the text only. \n",
    "#For example, if you are working with a large block of text that contains many hyperlinks, paragraphs, and other tags,\n",
    "#all those will be stripped away and you’ll be left with a tagless block of text\n",
    "\n",
    "# name_first = bsObj.find(\"span\", {\"class\":\"green\"})\n",
    "# print(name_first)\n",
    "# print(name_first.get_text())\n",
    "\n",
    "# list_prince = bsObj.findAll(\"span\", {\"class\":\"green\"}, text=\"the prince\")\n",
    "# Rq : findAll(tag, attributes, text, limit)\n",
    "# print(len(list_prince))\n",
    "# print(list_prince)"
   ]
  },
  {
   "cell_type": "code",
   "execution_count": 20,
   "metadata": {},
   "outputs": [
    {
     "ename": "TypeError",
     "evalue": "object of type 'Response' has no len()",
     "output_type": "error",
     "traceback": [
      "\u001b[1;31m---------------------------------------------------------------------------\u001b[0m",
      "\u001b[1;31mTypeError\u001b[0m                                 Traceback (most recent call last)",
      "\u001b[1;32m<ipython-input-20-91d922d9f1ea>\u001b[0m in \u001b[0;36m<module>\u001b[1;34m\u001b[0m\n\u001b[0;32m      1\u001b[0m \u001b[0murl\u001b[0m \u001b[1;33m=\u001b[0m \u001b[1;34m\"http://www.pythonscraping.com/pages/warandpeace.html\"\u001b[0m\u001b[1;33m\u001b[0m\u001b[1;33m\u001b[0m\u001b[0m\n\u001b[0;32m      2\u001b[0m \u001b[0mhtml\u001b[0m \u001b[1;33m=\u001b[0m \u001b[0mrequests\u001b[0m\u001b[1;33m.\u001b[0m\u001b[0mget\u001b[0m\u001b[1;33m(\u001b[0m\u001b[0murl\u001b[0m\u001b[1;33m)\u001b[0m\u001b[1;33m\u001b[0m\u001b[1;33m\u001b[0m\u001b[0m\n\u001b[1;32m----> 3\u001b[1;33m \u001b[0mbsObj\u001b[0m \u001b[1;33m=\u001b[0m \u001b[0mBeautifulSoup\u001b[0m\u001b[1;33m(\u001b[0m\u001b[0mhtml\u001b[0m\u001b[1;33m,\u001b[0m \u001b[1;34m\"lxml\"\u001b[0m\u001b[1;33m)\u001b[0m\u001b[1;33m\u001b[0m\u001b[1;33m\u001b[0m\u001b[0m\n\u001b[0m\u001b[0;32m      4\u001b[0m \u001b[0mlist_vert\u001b[0m \u001b[1;33m=\u001b[0m \u001b[0mbsObj\u001b[0m\u001b[1;33m.\u001b[0m\u001b[0mfindAll\u001b[0m\u001b[1;33m(\u001b[0m\u001b[1;33m{\u001b[0m\u001b[1;34m\"span\"\u001b[0m\u001b[1;33m}\u001b[0m\u001b[1;33m,\u001b[0m \u001b[1;33m{\u001b[0m\u001b[1;34m\"class\"\u001b[0m\u001b[1;33m:\u001b[0m\u001b[1;34m\"green\"\u001b[0m\u001b[1;33m}\u001b[0m\u001b[1;33m)\u001b[0m\u001b[1;33m\u001b[0m\u001b[1;33m\u001b[0m\u001b[0m\n\u001b[0;32m      5\u001b[0m \u001b[1;31m# Rq : bsObj.findAll(tagName, tagAttributes)\u001b[0m\u001b[1;33m\u001b[0m\u001b[1;33m\u001b[0m\u001b[1;33m\u001b[0m\u001b[0m\n",
      "\u001b[1;32m~\\miniconda3\\envs\\r-tensorflow\\lib\\site-packages\\bs4\\__init__.py\u001b[0m in \u001b[0;36m__init__\u001b[1;34m(self, markup, features, builder, parse_only, from_encoding, exclude_encodings, element_classes, **kwargs)\u001b[0m\n\u001b[0;32m    305\u001b[0m         \u001b[1;32mif\u001b[0m \u001b[0mhasattr\u001b[0m\u001b[1;33m(\u001b[0m\u001b[0mmarkup\u001b[0m\u001b[1;33m,\u001b[0m \u001b[1;34m'read'\u001b[0m\u001b[1;33m)\u001b[0m\u001b[1;33m:\u001b[0m        \u001b[1;31m# It's a file-type object.\u001b[0m\u001b[1;33m\u001b[0m\u001b[1;33m\u001b[0m\u001b[0m\n\u001b[0;32m    306\u001b[0m             \u001b[0mmarkup\u001b[0m \u001b[1;33m=\u001b[0m \u001b[0mmarkup\u001b[0m\u001b[1;33m.\u001b[0m\u001b[0mread\u001b[0m\u001b[1;33m(\u001b[0m\u001b[1;33m)\u001b[0m\u001b[1;33m\u001b[0m\u001b[1;33m\u001b[0m\u001b[0m\n\u001b[1;32m--> 307\u001b[1;33m         elif len(markup) <= 256 and (\n\u001b[0m\u001b[0;32m    308\u001b[0m                 \u001b[1;33m(\u001b[0m\u001b[0misinstance\u001b[0m\u001b[1;33m(\u001b[0m\u001b[0mmarkup\u001b[0m\u001b[1;33m,\u001b[0m \u001b[0mbytes\u001b[0m\u001b[1;33m)\u001b[0m \u001b[1;32mand\u001b[0m \u001b[1;32mnot\u001b[0m \u001b[1;34mb'<'\u001b[0m \u001b[1;32min\u001b[0m \u001b[0mmarkup\u001b[0m\u001b[1;33m)\u001b[0m\u001b[1;33m\u001b[0m\u001b[1;33m\u001b[0m\u001b[0m\n\u001b[0;32m    309\u001b[0m                 \u001b[1;32mor\u001b[0m \u001b[1;33m(\u001b[0m\u001b[0misinstance\u001b[0m\u001b[1;33m(\u001b[0m\u001b[0mmarkup\u001b[0m\u001b[1;33m,\u001b[0m \u001b[0mstr\u001b[0m\u001b[1;33m)\u001b[0m \u001b[1;32mand\u001b[0m \u001b[1;32mnot\u001b[0m \u001b[1;34m'<'\u001b[0m \u001b[1;32min\u001b[0m \u001b[0mmarkup\u001b[0m\u001b[1;33m)\u001b[0m\u001b[1;33m\u001b[0m\u001b[1;33m\u001b[0m\u001b[0m\n",
      "\u001b[1;31mTypeError\u001b[0m: object of type 'Response' has no len()"
     ]
    }
   ],
   "source": [
    "url = \"http://www.pythonscraping.com/pages/warandpeace.html\"\n",
    "html = requests.get(url)\n",
    "bsObj = BeautifulSoup(html, \"lxml\")\n",
    "list_vert = bsObj.findAll({\"span\"}, {\"class\":\"green\"})\n",
    "# Rq : bsObj.findAll(tagName, tagAttributes) \n",
    "# print(list_vert)\n",
    "for name in list_vert :\n",
    "   print(name.get_text())"
   ]
  },
  {
   "cell_type": "markdown",
   "metadata": {},
   "source": [
    "***\n",
    "- ## R : On cherche à réccupérer le tableau (en entier càd y compris ses tags et ses spans et non juste les données comprises) ?   \n",
    "url = http://www.pythonscraping.com/pages/page3.html  "
   ]
  },
  {
   "cell_type": "code",
   "execution_count": 103,
   "metadata": {},
   "outputs": [
    {
     "data": {
      "text/plain": [
       "13"
      ]
     },
     "execution_count": 103,
     "metadata": {},
     "output_type": "execute_result"
    },
    {
     "name": "stdout",
     "output_type": "stream",
     "text": [
      "\n",
      "\n",
      "<tr><th>\n",
      "Item Title\n",
      "</th><th>\n",
      "Description\n",
      "</th><th>\n",
      "Cost\n",
      "</th><th>\n",
      "Image\n",
      "</th></tr>\n",
      "\n",
      "\n",
      "<tr class=\"gift\" id=\"gift1\"><td>\n",
      "Vegetable Basket\n",
      "</td><td>\n",
      "This vegetable basket is the perfect gift for your health conscious (or overweight) friends!\n",
      "<span class=\"excitingNote\">Now with super-colorful bell peppers!</span>\n",
      "</td><td>\n",
      "$15.00\n",
      "</td><td>\n",
      "<img src=\"../img/gifts/img1.jpg\"/>\n",
      "</td></tr>\n",
      "\n",
      "\n",
      "<tr class=\"gift\" id=\"gift2\"><td>\n",
      "Russian Nesting Dolls\n",
      "</td><td>\n",
      "Hand-painted by trained monkeys, these exquisite dolls are priceless! And by \"priceless,\" we mean \"extremely expensive\"! <span class=\"excitingNote\">8 entire dolls per set! Octuple the presents!</span>\n",
      "</td><td>\n",
      "$10,000.52\n",
      "</td><td>\n",
      "<img src=\"../img/gifts/img2.jpg\"/>\n",
      "</td></tr>\n",
      "\n",
      "\n",
      "<tr class=\"gift\" id=\"gift3\"><td>\n",
      "Fish Painting\n",
      "</td><td>\n",
      "If something seems fishy about this painting, it's because it's a fish! <span class=\"excitingNote\">Also hand-painted by trained monkeys!</span>\n",
      "</td><td>\n",
      "$10,005.00\n",
      "</td><td>\n",
      "<img src=\"../img/gifts/img3.jpg\"/>\n",
      "</td></tr>\n",
      "\n",
      "\n",
      "<tr class=\"gift\" id=\"gift4\"><td>\n",
      "Dead Parrot\n",
      "</td><td>\n",
      "This is an ex-parrot! <span class=\"excitingNote\">Or maybe he's only resting?</span>\n",
      "</td><td>\n",
      "$0.50\n",
      "</td><td>\n",
      "<img src=\"../img/gifts/img4.jpg\"/>\n",
      "</td></tr>\n",
      "\n",
      "\n",
      "<tr class=\"gift\" id=\"gift5\"><td>\n",
      "Mystery Box\n",
      "</td><td>\n",
      "If you love suprises, this mystery box is for you! Do not place on light-colored surfaces. May cause oil staining. <span class=\"excitingNote\">Keep your friends guessing!</span>\n",
      "</td><td>\n",
      "$1.50\n",
      "</td><td>\n",
      "<img src=\"../img/gifts/img6.jpg\"/>\n",
      "</td></tr>\n",
      "\n",
      "\n"
     ]
    }
   ],
   "source": [
    "url = \"http://www.pythonscraping.com/pages/page3.html\"\n",
    "html = urlopen(url)\n",
    "bsObj = BeautifulSoup(html, 'lxml')\n",
    "# print(type(bsObj))\n",
    "# tableGift = bsObj.find(\"table\", {\"id\":\"giftList\"})\n",
    "# print(tableGift)\n",
    "# print(type(tableGift))\n",
    "listGift = list(tableGift.children)\n",
    "len(listGift)\n",
    "for child in tableGift.children :\n",
    "    print(child)"
   ]
  },
  {
   "cell_type": "code",
   "execution_count": 36,
   "metadata": {},
   "outputs": [
    {
     "name": "stdout",
     "output_type": "stream",
     "text": [
      "\n",
      "\n",
      "<tr><th>\n",
      "Item Title\n",
      "</th><th>\n",
      "Description\n",
      "</th><th>\n",
      "Cost\n",
      "</th><th>\n",
      "Image\n",
      "</th></tr>\n",
      "<th>\n",
      "Item Title\n",
      "</th>\n",
      "\n",
      "Item Title\n",
      "\n",
      "<th>\n",
      "Description\n",
      "</th>\n",
      "\n",
      "Description\n",
      "\n",
      "<th>\n",
      "Cost\n",
      "</th>\n",
      "\n",
      "Cost\n",
      "\n",
      "<th>\n",
      "Image\n",
      "</th>\n",
      "\n",
      "Image\n",
      "\n",
      "\n",
      "\n",
      "<tr class=\"gift\" id=\"gift1\"><td>\n",
      "Vegetable Basket\n",
      "</td><td>\n",
      "This vegetable basket is the perfect gift for your health conscious (or overweight) friends!\n",
      "<span class=\"excitingNote\">Now with super-colorful bell peppers!</span>\n",
      "</td><td>\n",
      "$15.00\n",
      "</td><td>\n",
      "<img src=\"../img/gifts/img1.jpg\"/>\n",
      "</td></tr>\n",
      "<td>\n",
      "Vegetable Basket\n",
      "</td>\n",
      "\n",
      "Vegetable Basket\n",
      "\n",
      "<td>\n",
      "This vegetable basket is the perfect gift for your health conscious (or overweight) friends!\n",
      "<span class=\"excitingNote\">Now with super-colorful bell peppers!</span>\n",
      "</td>\n",
      "\n",
      "This vegetable basket is the perfect gift for your health conscious (or overweight) friends!\n",
      "\n",
      "<span class=\"excitingNote\">Now with super-colorful bell peppers!</span>\n",
      "Now with super-colorful bell peppers!\n",
      "\n",
      "\n",
      "<td>\n",
      "$15.00\n",
      "</td>\n",
      "\n",
      "$15.00\n",
      "\n",
      "<td>\n",
      "<img src=\"../img/gifts/img1.jpg\"/>\n",
      "</td>\n",
      "\n",
      "\n",
      "<img src=\"../img/gifts/img1.jpg\"/>\n",
      "\n",
      "\n",
      "\n",
      "\n",
      "<tr class=\"gift\" id=\"gift2\"><td>\n",
      "Russian Nesting Dolls\n",
      "</td><td>\n",
      "Hand-painted by trained monkeys, these exquisite dolls are priceless! And by \"priceless,\" we mean \"extremely expensive\"! <span class=\"excitingNote\">8 entire dolls per set! Octuple the presents!</span>\n",
      "</td><td>\n",
      "$10,000.52\n",
      "</td><td>\n",
      "<img src=\"../img/gifts/img2.jpg\"/>\n",
      "</td></tr>\n",
      "<td>\n",
      "Russian Nesting Dolls\n",
      "</td>\n",
      "\n",
      "Russian Nesting Dolls\n",
      "\n",
      "<td>\n",
      "Hand-painted by trained monkeys, these exquisite dolls are priceless! And by \"priceless,\" we mean \"extremely expensive\"! <span class=\"excitingNote\">8 entire dolls per set! Octuple the presents!</span>\n",
      "</td>\n",
      "\n",
      "Hand-painted by trained monkeys, these exquisite dolls are priceless! And by \"priceless,\" we mean \"extremely expensive\"! \n",
      "<span class=\"excitingNote\">8 entire dolls per set! Octuple the presents!</span>\n",
      "8 entire dolls per set! Octuple the presents!\n",
      "\n",
      "\n",
      "<td>\n",
      "$10,000.52\n",
      "</td>\n",
      "\n",
      "$10,000.52\n",
      "\n",
      "<td>\n",
      "<img src=\"../img/gifts/img2.jpg\"/>\n",
      "</td>\n",
      "\n",
      "\n",
      "<img src=\"../img/gifts/img2.jpg\"/>\n",
      "\n",
      "\n",
      "\n",
      "\n",
      "<tr class=\"gift\" id=\"gift3\"><td>\n",
      "Fish Painting\n",
      "</td><td>\n",
      "If something seems fishy about this painting, it's because it's a fish! <span class=\"excitingNote\">Also hand-painted by trained monkeys!</span>\n",
      "</td><td>\n",
      "$10,005.00\n",
      "</td><td>\n",
      "<img src=\"../img/gifts/img3.jpg\"/>\n",
      "</td></tr>\n",
      "<td>\n",
      "Fish Painting\n",
      "</td>\n",
      "\n",
      "Fish Painting\n",
      "\n",
      "<td>\n",
      "If something seems fishy about this painting, it's because it's a fish! <span class=\"excitingNote\">Also hand-painted by trained monkeys!</span>\n",
      "</td>\n",
      "\n",
      "If something seems fishy about this painting, it's because it's a fish! \n",
      "<span class=\"excitingNote\">Also hand-painted by trained monkeys!</span>\n",
      "Also hand-painted by trained monkeys!\n",
      "\n",
      "\n",
      "<td>\n",
      "$10,005.00\n",
      "</td>\n",
      "\n",
      "$10,005.00\n",
      "\n",
      "<td>\n",
      "<img src=\"../img/gifts/img3.jpg\"/>\n",
      "</td>\n",
      "\n",
      "\n",
      "<img src=\"../img/gifts/img3.jpg\"/>\n",
      "\n",
      "\n",
      "\n",
      "\n",
      "<tr class=\"gift\" id=\"gift4\"><td>\n",
      "Dead Parrot\n",
      "</td><td>\n",
      "This is an ex-parrot! <span class=\"excitingNote\">Or maybe he's only resting?</span>\n",
      "</td><td>\n",
      "$0.50\n",
      "</td><td>\n",
      "<img src=\"../img/gifts/img4.jpg\"/>\n",
      "</td></tr>\n",
      "<td>\n",
      "Dead Parrot\n",
      "</td>\n",
      "\n",
      "Dead Parrot\n",
      "\n",
      "<td>\n",
      "This is an ex-parrot! <span class=\"excitingNote\">Or maybe he's only resting?</span>\n",
      "</td>\n",
      "\n",
      "This is an ex-parrot! \n",
      "<span class=\"excitingNote\">Or maybe he's only resting?</span>\n",
      "Or maybe he's only resting?\n",
      "\n",
      "\n",
      "<td>\n",
      "$0.50\n",
      "</td>\n",
      "\n",
      "$0.50\n",
      "\n",
      "<td>\n",
      "<img src=\"../img/gifts/img4.jpg\"/>\n",
      "</td>\n",
      "\n",
      "\n",
      "<img src=\"../img/gifts/img4.jpg\"/>\n",
      "\n",
      "\n",
      "\n",
      "\n",
      "<tr class=\"gift\" id=\"gift5\"><td>\n",
      "Mystery Box\n",
      "</td><td>\n",
      "If you love suprises, this mystery box is for you! Do not place on light-colored surfaces. May cause oil staining. <span class=\"excitingNote\">Keep your friends guessing!</span>\n",
      "</td><td>\n",
      "$1.50\n",
      "</td><td>\n",
      "<img src=\"../img/gifts/img6.jpg\"/>\n",
      "</td></tr>\n",
      "<td>\n",
      "Mystery Box\n",
      "</td>\n",
      "\n",
      "Mystery Box\n",
      "\n",
      "<td>\n",
      "If you love suprises, this mystery box is for you! Do not place on light-colored surfaces. May cause oil staining. <span class=\"excitingNote\">Keep your friends guessing!</span>\n",
      "</td>\n",
      "\n",
      "If you love suprises, this mystery box is for you! Do not place on light-colored surfaces. May cause oil staining. \n",
      "<span class=\"excitingNote\">Keep your friends guessing!</span>\n",
      "Keep your friends guessing!\n",
      "\n",
      "\n",
      "<td>\n",
      "$1.50\n",
      "</td>\n",
      "\n",
      "$1.50\n",
      "\n",
      "<td>\n",
      "<img src=\"../img/gifts/img6.jpg\"/>\n",
      "</td>\n",
      "\n",
      "\n",
      "<img src=\"../img/gifts/img6.jpg\"/>\n",
      "\n",
      "\n",
      "\n",
      "\n"
     ]
    }
   ],
   "source": [
    "tableDesc = tableGift.descendants\n",
    "listDesc = list(tableDesc)\n",
    "# len(listDesc)\n",
    "# print(listDesc)\n",
    "for descendant in listDesc:\n",
    "    print(descendant) "
   ]
  },
  {
   "cell_type": "markdown",
   "metadata": {},
   "source": [
    "***\n",
    "- ## Sous Obj : Gestion des exceptions\n",
    "    - **Q : Qu'est-ce que les erreurs 404 et 500, Gérer ces deux erreurs pr les 2 URL (page1 et trump) ?**   "
   ]
  },
  {
   "cell_type": "code",
   "execution_count": null,
   "metadata": {},
   "outputs": [],
   "source": [
    "url = \"http://pythonscraping.com/pages/page1.html\"\n",
    "html = urlopen(url)\n",
    "print(html.read())"
   ]
  },
  {
   "cell_type": "code",
   "execution_count": null,
   "metadata": {},
   "outputs": [],
   "source": [
    "from urllib.error import HTTPError\n",
    "from urllib.error import URLError\n",
    "url = \"http://pythonscraping.com/pages/page1.html\"\n",
    "try : \n",
    "    html = urlopen(url)\n",
    "except HTTPError as e :     \n",
    "    print(e)\n",
    "    print(\"- La page web n’existe pas (plus)\")\n",
    "    #return null, break, or do some other \"Plan B\"\n",
    "except URLError as e :     \n",
    "    print(e)\n",
    "    print(\"- The server could not be found!\")    \n",
    "else : \n",
    "    print(\"It worked!\")\n",
    "    #program continues. Note: If you return or break in the\n",
    "    #exception catch, you do not need to use the \"else\" statement"
   ]
  },
  {
   "cell_type": "markdown",
   "metadata": {},
   "source": [
    "**Q : Gérer l'erreur où vs indiquez un tag qui n'existe pas ?** "
   ]
  },
  {
   "cell_type": "code",
   "execution_count": null,
   "metadata": {},
   "outputs": [],
   "source": [
    "#print(bsObj.h11) # None\n",
    "#print(bsObj.h11.text) # Lire 1type None => AttributeError\n",
    "#print(soup.nonExistingTag) # Deprecated\n",
    "#print(soup.find(\"nonExistingTag\")) # Bonne syntaxe\n",
    "print(soup.find(\"h1\").text)\n",
    "#.find(\"sometag\"))      "
   ]
  },
  {
   "cell_type": "code",
   "execution_count": null,
   "metadata": {},
   "outputs": [],
   "source": [
    "try :\n",
    "    badContent = bsObj.find(\"nonExistingTag\")#\n",
    "except AttributeError as e :\n",
    "    print(\"Tag was not found\")\n",
    "else :\n",
    "    if badContent == None :\n",
    "        print(\"Tag was not found\")\n",
    "    else :\n",
    "        print(badContent)"
   ]
  },
  {
   "cell_type": "markdown",
   "metadata": {},
   "source": [
    "***\n",
    "- ## Obj 4 : Les différents parseurs \n",
    "**Q : Les différents parseurs de BeutifulSoup ?**   \n"
   ]
  },
  {
   "cell_type": "code",
   "execution_count": 46,
   "metadata": {},
   "outputs": [
    {
     "name": "stdout",
     "output_type": "stream",
     "text": [
      "<?xml version=\"1.0\" encoding=\"utf-8\"?>\n",
      "\n"
     ]
    }
   ],
   "source": [
    "#soup_html = BeautifulSoup(html.read(), 'html.parser')\n",
    "#print(soup_html)\n",
    "soup_xml = BeautifulSoup(html.read(), 'xml')\n",
    "print(soup_xml)"
   ]
  },
  {
   "cell_type": "code",
   "execution_count": null,
   "metadata": {},
   "outputs": [],
   "source": [
    "BeautifulSoup(\"<a><b /></a>\")"
   ]
  },
  {
   "cell_type": "markdown",
   "metadata": {},
   "source": [
    "***\n",
    "- ## Obj : \n",
    "**Une page web contient souvent des liens hypertexte sur lesquels vs cliquez :**\n",
    "- lien simple (ou avec CSS),\n",
    "- lien de type bouton (par ex home bouton),\n",
    "- hoover\n",
    "- Cliquez sur ce lien hypertexte fraîchement construit :\n",
    "<a href=\"http://www.startyourdev.com/html/tag-html-balise-a\">pour vous perfectionner avec la balise ***a***</a>  \n",
    "\n",
    "La balise ***a*** permet en effet de créer un lien hypertexte pointant vers un document en spécifiant l'url de celui-ci au niveau de l'attribut \"href\" (...). \n",
    "\n",
    "**Q : Réccuperer ts les liens hypertextes de la page à l'aide d'un regex Et à l'aide de la méthode spécifique de BeautifulSoup ? Pr ce faire, réccuperer ttes les balises de type 'a'. Chercher ensuite ds leur contenu l'attribut \"href\" ?**   \n",
    "Indice : findAll()"
   ]
  },
  {
   "cell_type": "code",
   "execution_count": 24,
   "metadata": {},
   "outputs": [
    {
     "name": "stdout",
     "output_type": "stream",
     "text": [
      "<a class=\"u-hiddenVisually focusable\" href=\"#timeline\">Passer au contenu</a>\n",
      "<a class=\"u-hiddenVisually focusable\" href=\"#timeline\">Passer au contenu</a>\n"
     ]
    }
   ],
   "source": [
    "#print(soup.findAll('a')) #Chercher ttes les balises <a></a>     \n",
    "type(soup.findAll('a')) #bs4.element.ResultSet\n",
    "#isinstance(soup.findAll('a'), list)\n",
    "#len(soup.findAll('a'))\n",
    "print(soup.findAll('a')[0])\n",
    "#Est équivalente \n",
    "print(soup.find('a'))"
   ]
  },
  {
   "cell_type": "code",
   "execution_count": null,
   "metadata": {},
   "outputs": [],
   "source": [
    "for link in soup.findAll('a') : \n",
    "    print(link.get('href')) #1è façon\n",
    "    print(link.text) #2è façon"
   ]
  },
  {
   "cell_type": "code",
   "execution_count": null,
   "metadata": {},
   "outputs": [],
   "source": [
    "print(soup.find('div', {'class' : 'ProfileAvatar-image '}).find('p').text)"
   ]
  },
  {
   "cell_type": "markdown",
   "metadata": {},
   "source": [
    "![](https://sophieetstephanie.files.wordpress.com/2013/11/tableau-codes-html.gif)"
   ]
  }
 ],
 "metadata": {
  "kernelspec": {
   "display_name": "Python 3",
   "language": "python",
   "name": "python3"
  },
  "language_info": {
   "codemirror_mode": {
    "name": "ipython",
    "version": 3
   },
   "file_extension": ".py",
   "mimetype": "text/x-python",
   "name": "python",
   "nbconvert_exporter": "python",
   "pygments_lexer": "ipython3",
   "version": "3.6.9"
  },
  "toc": {
   "nav_menu": {},
   "number_sections": true,
   "sideBar": true,
   "skip_h1_title": false,
   "title_cell": "Table of Contents",
   "title_sidebar": "Contents",
   "toc_cell": true,
   "toc_position": {},
   "toc_section_display": true,
   "toc_window_display": false
  },
  "varInspector": {
   "cols": {
    "lenName": 16,
    "lenType": 16,
    "lenVar": 40
   },
   "kernels_config": {
    "python": {
     "delete_cmd_postfix": "",
     "delete_cmd_prefix": "del ",
     "library": "var_list.py",
     "varRefreshCmd": "print(var_dic_list())"
    },
    "r": {
     "delete_cmd_postfix": ") ",
     "delete_cmd_prefix": "rm(",
     "library": "var_list.r",
     "varRefreshCmd": "cat(var_dic_list()) "
    }
   },
   "types_to_exclude": [
    "module",
    "function",
    "builtin_function_or_method",
    "instance",
    "_Feature"
   ],
   "window_display": false
  }
 },
 "nbformat": 4,
 "nbformat_minor": 2
}
