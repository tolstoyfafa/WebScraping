{
 "cells": [
  {
   "cell_type": "code",
   "execution_count": 2,
   "metadata": {},
   "outputs": [
    {
     "name": "stdout",
     "output_type": "stream",
     "text": [
      "Requirement already satisfied: bs4 in /Users/loryleticee/opt/anaconda3/lib/python3.8/site-packages (0.0.1)\r\n",
      "Requirement already satisfied: requests in /Users/loryleticee/opt/anaconda3/lib/python3.8/site-packages (2.24.0)\r\n",
      "Requirement already satisfied: lxml in /Users/loryleticee/opt/anaconda3/lib/python3.8/site-packages (4.5.2)\r\n",
      "Requirement already satisfied: beautifulsoup4 in /Users/loryleticee/opt/anaconda3/lib/python3.8/site-packages (from bs4) (4.9.1)\r\n",
      "Requirement already satisfied: urllib3!=1.25.0,!=1.25.1,<1.26,>=1.21.1 in /Users/loryleticee/opt/anaconda3/lib/python3.8/site-packages (from requests) (1.25.9)\r\n",
      "Requirement already satisfied: certifi>=2017.4.17 in /Users/loryleticee/opt/anaconda3/lib/python3.8/site-packages (from requests) (2020.6.20)\r\n",
      "Requirement already satisfied: chardet<4,>=3.0.2 in /Users/loryleticee/opt/anaconda3/lib/python3.8/site-packages (from requests) (3.0.4)\r\n",
      "Requirement already satisfied: idna<3,>=2.5 in /Users/loryleticee/opt/anaconda3/lib/python3.8/site-packages (from requests) (2.10)\r\n",
      "Requirement already satisfied: soupsieve>1.2 in /Users/loryleticee/opt/anaconda3/lib/python3.8/site-packages (from beautifulsoup4->bs4) (2.0.1)\r\n"
     ]
    }
   ],
   "source": [
    "# This notebook have as a point to allow us scraping job sites, to give us ability to have a DB that references \n",
    "# all available computing jobs in France.\n",
    "# We should add also a country classemnet of basic salries to compare ?? TBD\n",
    "# Steps:\n",
    "\"\"\"\n",
    "Search on :\n",
    "- indeed\n",
    "- monster\n",
    "with keys {'informatique', 'france'} \n",
    "- Find where is job ads \n",
    "- parse and get {title, salary, location, missions, company name}\n",
    "\"\"\"\n",
    "#!pip install pandas\n",
    "!pip install bs4 requests lxml "
   ]
  },
  {
   "cell_type": "code",
   "execution_count": 4,
   "metadata": {},
   "outputs": [],
   "source": [
    "# Brouillon\n",
    "#!conda install lxml requests bs4\n",
    "#!conda install -y pandas\n",
    "#!pip install pandas\n",
    "\n",
    "import requests\n",
    "from bs4 import BeautifulSoup as bs\n",
    "import pandas as pd\n"
   ]
  },
  {
   "cell_type": "code",
   "execution_count": 37,
   "metadata": {},
   "outputs": [],
   "source": [
    "# search for jobs with key 'inforamtique' and 'france' location.\n",
    "\n",
    "indeed_url = \"https://fr.indeed.com/emplois?q=informatique&l=France\"\n",
    "res = requests.get(\"https://fr.indeed.com/emplois?q=informatique&l=France\")\n",
    "# print(res)\n",
    "# parse witrh soup\n",
    "soup = bs(res.content,\"html\")\n",
    "#print(type(soup))\n",
    "cards = soup.find_all({\"div\"}, {\"class\":\"jobsearch-SerpJobCard unifiedRow row result\"})\n",
    "subjects = []\n",
    "companies = []\n",
    "salary = []\n",
    "\n",
    "for card in cards:\n",
    "    draft = card.h2.a.text\n",
    "    result = draft.replace('\\n','')\n",
    "    subjects.append(result)\n",
    "    draf2 = card.find({\"div\"}, {\"class\":\"sjcl\"}).span.text\n",
    "    result2 = draf2.lstrip('\\n')\n",
    "    companies.append(result2)\n",
    "    salary.append('')\n",
    "#df = pd.DataFrame(zip(subjects, companies, salary), columns=('Job','Company', 'salary'))\n",
    "#df"
   ]
  },
  {
   "cell_type": "code",
   "execution_count": 38,
   "metadata": {},
   "outputs": [],
   "source": [
    "#ADD MONSTER DATAS"
   ]
  },
  {
   "cell_type": "code",
   "execution_count": 5,
   "metadata": {},
   "outputs": [
    {
     "ename": "TypeError",
     "evalue": "'module' object is not callable",
     "output_type": "error",
     "traceback": [
      "\u001b[0;31m---------------------------------------------------------------------------\u001b[0m",
      "\u001b[0;31mTypeError\u001b[0m                                 Traceback (most recent call last)",
      "\u001b[0;32m<ipython-input-5-e22c10d84fdc>\u001b[0m in \u001b[0;36m<module>\u001b[0;34m\u001b[0m\n\u001b[1;32m      1\u001b[0m \u001b[0mmonster_url\u001b[0m \u001b[0;34m=\u001b[0m \u001b[0;34m\"https://www.monster.fr/emploi/recherche/?q=Informatique\"\u001b[0m\u001b[0;34m\u001b[0m\u001b[0;34m\u001b[0m\u001b[0m\n\u001b[1;32m      2\u001b[0m \u001b[0;34m\u001b[0m\u001b[0m\n\u001b[0;32m----> 3\u001b[0;31m \u001b[0mhtml\u001b[0m \u001b[0;34m=\u001b[0m \u001b[0mrequests\u001b[0m\u001b[0;34m(\u001b[0m\u001b[0mmonster_url\u001b[0m\u001b[0;34m)\u001b[0m\u001b[0;34m\u001b[0m\u001b[0;34m\u001b[0m\u001b[0m\n\u001b[0m\u001b[1;32m      4\u001b[0m \u001b[0;34m\u001b[0m\u001b[0m\n\u001b[1;32m      5\u001b[0m \u001b[0mpage\u001b[0m \u001b[0;34m=\u001b[0m \u001b[0mbs\u001b[0m\u001b[0;34m(\u001b[0m\u001b[0mhtml\u001b[0m\u001b[0;34m.\u001b[0m\u001b[0mread\u001b[0m\u001b[0;34m(\u001b[0m\u001b[0;34m)\u001b[0m\u001b[0;34m,\u001b[0m \u001b[0;34m'lxml'\u001b[0m\u001b[0;34m)\u001b[0m\u001b[0;34m.\u001b[0m\u001b[0mhtml\u001b[0m\u001b[0;34m.\u001b[0m\u001b[0mbody\u001b[0m\u001b[0;34m\u001b[0m\u001b[0;34m\u001b[0m\u001b[0m\n",
      "\u001b[0;31mTypeError\u001b[0m: 'module' object is not callable"
     ]
    }
   ],
   "source": [
    "monster_url = \"https://www.monster.fr/emploi/recherche/?q=Informatique\"\n",
    "\n",
    "html = requests(monster_url)\n",
    "\n",
    "page = bs(html.read(), 'lxml').html.body\n",
    "\n",
    "#print(page.body.prettify())\n",
    "linksArray = []\n",
    "\n",
    "allPostLink = page.findAll(\"h2\", {'class', 'title'})\n",
    "for post in allPostLink:\n",
    "    linksArray.append(post.a['href'])\n",
    "#print(linksArray)\n"
   ]
  },
  {
   "cell_type": "code",
   "execution_count": 6,
   "metadata": {},
   "outputs": [
    {
     "ename": "NameError",
     "evalue": "name 'linksArray' is not defined",
     "output_type": "error",
     "traceback": [
      "\u001b[0;31m---------------------------------------------------------------------------\u001b[0m",
      "\u001b[0;31mNameError\u001b[0m                                 Traceback (most recent call last)",
      "\u001b[0;32m<ipython-input-6-5f40526f5ee6>\u001b[0m in \u001b[0;36m<module>\u001b[0;34m\u001b[0m\n\u001b[1;32m      2\u001b[0m \u001b[0mcompaniesMonster\u001b[0m \u001b[0;34m=\u001b[0m \u001b[0;34m[\u001b[0m\u001b[0;34m]\u001b[0m\u001b[0;34m\u001b[0m\u001b[0;34m\u001b[0m\u001b[0m\n\u001b[1;32m      3\u001b[0m \u001b[0;34m\u001b[0m\u001b[0m\n\u001b[0;32m----> 4\u001b[0;31m \u001b[0;32mfor\u001b[0m \u001b[0mlinkUrl\u001b[0m \u001b[0;32min\u001b[0m \u001b[0mlinksArray\u001b[0m\u001b[0;34m:\u001b[0m\u001b[0;34m\u001b[0m\u001b[0;34m\u001b[0m\u001b[0m\n\u001b[0m\u001b[1;32m      5\u001b[0m     \u001b[0mresMonster\u001b[0m \u001b[0;34m=\u001b[0m \u001b[0mrequests\u001b[0m\u001b[0;34m.\u001b[0m\u001b[0mget\u001b[0m\u001b[0;34m(\u001b[0m\u001b[0mlinkUrl\u001b[0m\u001b[0;34m)\u001b[0m\u001b[0;34m\u001b[0m\u001b[0;34m\u001b[0m\u001b[0m\n\u001b[1;32m      6\u001b[0m     \u001b[0mobjectXML\u001b[0m \u001b[0;34m=\u001b[0m \u001b[0mbs\u001b[0m\u001b[0;34m(\u001b[0m\u001b[0mresMonster\u001b[0m\u001b[0;34m.\u001b[0m\u001b[0mtext\u001b[0m\u001b[0;34m,\u001b[0m \u001b[0;34m'lxml'\u001b[0m\u001b[0;34m)\u001b[0m\u001b[0;34m.\u001b[0m\u001b[0mhtml\u001b[0m\u001b[0;34m\u001b[0m\u001b[0;34m\u001b[0m\u001b[0m\n",
      "\u001b[0;31mNameError\u001b[0m: name 'linksArray' is not defined"
     ]
    }
   ],
   "source": [
    "subjectsMonster = []\n",
    "companiesMonster = []\n",
    "\n",
    "for linkUrl in linksArray:\n",
    "    resMonster = requests.get(linkUrl)\n",
    "    objectXML = bs(resMonster.text, 'lxml').html\n",
    "    parentJobName = objectXML.findAll('h1', {'name':'job_title'})\n",
    "    \n",
    "    for child in parentJobName:\n",
    "        subjectsMonster.append(child['title'])\n",
    "        \n",
    "    parentCompanyName = objectXML.findAll('div', {'name':'job_company_name'})\n",
    "    for company in parentCompanyName:\n",
    "        companiesMonster.append(company.text)\n",
    "    #salary\n",
    "    salary.append('')"
   ]
  },
  {
   "cell_type": "code",
   "execution_count": null,
   "metadata": {},
   "outputs": [],
   "source": [
    "subjects = subjects + subjectsMonster\n",
    "companies = companies + companiesMonster"
   ]
  },
  {
   "cell_type": "code",
   "execution_count": null,
   "metadata": {},
   "outputs": [],
   "source": [
    "df = pd.DataFrame(zip(subjects, companies, salary),columns=('Job','Company', 'salary'))\n",
    "df"
   ]
  },
  {
   "cell_type": "code",
   "execution_count": null,
   "metadata": {},
   "outputs": [],
   "source": []
  }
 ],
 "metadata": {
  "kernelspec": {
   "display_name": "Python 3",
   "language": "python",
   "name": "python3"
  },
  "language_info": {
   "codemirror_mode": {
    "name": "ipython",
    "version": 3
   },
   "file_extension": ".py",
   "mimetype": "text/x-python",
   "name": "python",
   "nbconvert_exporter": "python",
   "pygments_lexer": "ipython3",
   "version": "3.6.9"
  }
 },
 "nbformat": 4,
 "nbformat_minor": 4
}
