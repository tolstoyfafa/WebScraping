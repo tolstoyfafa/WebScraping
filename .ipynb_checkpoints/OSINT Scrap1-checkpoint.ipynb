{
 "cells": [
  {
   "cell_type": "markdown",
   "metadata": {},
   "source": [
    "***\n",
    "# Brief Projet : OSINT Web Scraping (level imiter)\n",
    "\n",
    " \n",
    "- **Je fournis plusieurs URL dont chacune permet de s'exercer sur une question bien spécifique (pr s'entraîner).**  \n",
    "  \n",
    "url1 = http://pythonscraping.com/pages/page1.html  \n",
    "url2 = http://www.pythonscraping.com/pages/warandpeace.html  \n",
    "url3 = http://www.pythonscraping.com/pages/page3.html\n",
    "\n",
    "\n",
    "\n",
    "- **La documentation de BeautifulSoup : https://www.crummy.com/software/BeautifulSoup/bs4/doc/**  \n",
    "Autres ressources :   \n",
    "- https://hackernoon.com/scraping-amazon-product-information-with-python-and-beautifulsoup-yn4s3tgr\n",
    "\n",
    "***\n",
    "## Veille (Learnin by Teachning 9h30-10h00) : \n",
    "- **Faire une veille sur les pkg BeautifulSoup et requests ?**   \n",
    "\n",
    "![](https://encrypted-tbn0.gstatic.com/images?q=tbn:ANd9GcShSNuITX-DU4GNs8NUjxVe06sR6hQs7qe7O_SITovAbe8AUcO7)\n",
    "\n",
    "***\n",
    "## Q : \n",
    "- **On se donne comme 1er obj de réccuperer le title de la page web url_t !**   \n",
    "    - *Lorsque vs pointez en effet la flèche de la souris sur un onglet chrome, vs affichez le title de la page web en question.*\n",
    "        - Dans notre cas : RealDonalTrump (@RealDonalTrump) | Twitter  \n",
    "        - Indice : \n",
    "            - import requests\n",
    "            - from bs4 import BeautifulSoup\n",
    "            - `.read()`, `BeautifulSoup()`, `tag` `title`, `text`\n",
    "            \n",
    "**`HTML`** | **`HTML`** \n",
    "--- | --- \n",
    "![](https://user.oc-static.com/files/340001_341000/340563.png) | ![](http://www.cleantutorials.com/wp-content/uploads/2015/11/html-tag.png)\n",
    "\n",
    "            \n",
    "***\n",
    "\n",
    "- **Q : Après avoir identifié la structure de la page url1 (*head, title, body, h1, div*), extraire le titre principal ?** \n",
    "    - Dans notre cas, h1 : \"*An Interesting Title*\".\n",
    "    - Q : Extraire alors le titre principal (h1) de la page de Donald Trump ? \n",
    "    \n",
    "    \n",
    "- **Q : Après avoir identifié la structure de la page url2 (head, title, body, h1, h2, div, span),**\n",
    "    - Récupérer ts les mots en vert (ensuite en rouge) ? Le 1er, Les 5 premiers ? \n",
    "    - Récupérer ts les mots qui sont soit en rouge soit en vert ? Le 1er, Les 5 premiers ?\n",
    "    - Récupérer ts les mots qui correspondent à \"the prince\" en miniscule et coloré en vert ?\n",
    "        - Ex : 1è mot en vert : Anna\n",
    "        \n",
    "        \n",
    "- **Q : Après avoir identifié la structure de la page url3, réccupérer le *tableau* en entier** \n",
    "        - HTML\n",
    "            - body\n",
    "                - div.wrapper\n",
    "                    - h1\n",
    "                    - div.content\n",
    "                    - table#giftList\n",
    "                        - tr\n",
    "                            - th\n",
    "                            - th\n",
    "                            - th\n",
    "                            - th\n",
    "                        - tr.gift#gift1\n",
    "                            - td\n",
    "                            - td\n",
    "                                - span.excitingNote\n",
    "                            - td\n",
    "                            - td \n",
    "                                - img\n",
    "                        - table rows continue...\n",
    "                    - div.footer\n",
    "       \n",
    "                \n",
    "\n",
    "- **Q : Identifier la structure de la page de Donald Trump (*head, title, body, h1,..., h6, div, span,...*) ?**\n",
    "***\n",
    "- ## Gestion des exceptions\n",
    "    - **Q : Qu'est-ce que les erreurs 404 et 500, Gérer ces deux erreurs pr les différents URL utilisés ?** \n",
    "    \n",
    "     Indice : (en entier càd y compris ses tags, spans, Indice : )"
   ]
  },
  {
   "cell_type": "markdown",
   "metadata": {},
   "source": [
    "***\n",
    "## R"
   ]
  },
  {
   "cell_type": "code",
   "execution_count": 1,
   "metadata": {},
   "outputs": [
    {
     "name": "stdout",
     "output_type": "stream",
     "text": [
      "Requirement already satisfied: BeautifulSoup4 in /home/fbordjah/.virtualenvs/notebook/lib/python3.6/site-packages (4.9.3)\n",
      "Requirement already satisfied: requests in /home/fbordjah/.virtualenvs/notebook/lib/python3.6/site-packages (2.24.0)\n",
      "Requirement already satisfied: soupsieve>1.2; python_version >= \"3.0\" in /home/fbordjah/.virtualenvs/notebook/lib/python3.6/site-packages (from BeautifulSoup4) (2.0.1)\n",
      "Requirement already satisfied: urllib3!=1.25.0,!=1.25.1,<1.26,>=1.21.1 in /home/fbordjah/.virtualenvs/notebook/lib/python3.6/site-packages (from requests) (1.25.10)\n",
      "Requirement already satisfied: idna<3,>=2.5 in /home/fbordjah/.virtualenvs/notebook/lib/python3.6/site-packages (from requests) (2.10)\n",
      "Requirement already satisfied: certifi>=2017.4.17 in /home/fbordjah/.virtualenvs/notebook/lib/python3.6/site-packages (from requests) (2020.6.20)\n",
      "Requirement already satisfied: chardet<4,>=3.0.2 in /home/fbordjah/.virtualenvs/notebook/lib/python3.6/site-packages (from requests) (3.0.4)\n",
      "\u001b[33mWARNING: You are using pip version 20.0.2; however, version 20.2.4 is available.\n",
      "You should consider upgrading via the '/home/fbordjah/.virtualenvs/notebook/bin/python -m pip install --upgrade pip' command.\u001b[0m\n"
     ]
    }
   ],
   "source": [
    "# conda install BeautifulSoup4\n",
    "# conda install lxml\n",
    "# les imports\n",
    "!pip install BeautifulSoup4 requests\n",
    "import requests\n",
    "from bs4 import BeautifulSoup\n",
    "\n"
   ]
  },
  {
   "cell_type": "code",
   "execution_count": 2,
   "metadata": {
    "scrolled": true
   },
   "outputs": [
    {
     "ename": "FeatureNotFound",
     "evalue": "Couldn't find a tree builder with the features you requested: lxml. Do you need to install a parser library?",
     "output_type": "error",
     "traceback": [
      "\u001b[0;31m---------------------------------------------------------------------------\u001b[0m",
      "\u001b[0;31mFeatureNotFound\u001b[0m                           Traceback (most recent call last)",
      "\u001b[0;32m<ipython-input-2-6c927244230d>\u001b[0m in \u001b[0;36m<module>\u001b[0;34m\u001b[0m\n\u001b[1;32m      1\u001b[0m \u001b[0murl\u001b[0m \u001b[0;34m=\u001b[0m \u001b[0;34m\"http://pythonscraping.com/pages/page1.html\"\u001b[0m\u001b[0;34m\u001b[0m\u001b[0;34m\u001b[0m\u001b[0m\n\u001b[1;32m      2\u001b[0m \u001b[0mhtml\u001b[0m \u001b[0;34m=\u001b[0m \u001b[0mrequests\u001b[0m\u001b[0;34m.\u001b[0m\u001b[0mget\u001b[0m\u001b[0;34m(\u001b[0m\u001b[0murl\u001b[0m\u001b[0;34m)\u001b[0m\u001b[0;34m\u001b[0m\u001b[0;34m\u001b[0m\u001b[0m\n\u001b[0;32m----> 3\u001b[0;31m \u001b[0msoup\u001b[0m \u001b[0;34m=\u001b[0m \u001b[0mBeautifulSoup\u001b[0m\u001b[0;34m(\u001b[0m\u001b[0mhtml\u001b[0m\u001b[0;34m,\u001b[0m \u001b[0;34m\"lxml\"\u001b[0m\u001b[0;34m)\u001b[0m\u001b[0;34m\u001b[0m\u001b[0;34m\u001b[0m\u001b[0m\n\u001b[0m\u001b[1;32m      4\u001b[0m \u001b[0;31m# print(soup)\u001b[0m\u001b[0;34m\u001b[0m\u001b[0;34m\u001b[0m\u001b[0;34m\u001b[0m\u001b[0m\n\u001b[1;32m      5\u001b[0m \u001b[0;31m# print(soup.h1)\u001b[0m\u001b[0;34m\u001b[0m\u001b[0;34m\u001b[0m\u001b[0;34m\u001b[0m\u001b[0m\n",
      "\u001b[0;32m~/.virtualenvs/notebook/lib/python3.6/site-packages/bs4/__init__.py\u001b[0m in \u001b[0;36m__init__\u001b[0;34m(self, markup, features, builder, parse_only, from_encoding, exclude_encodings, element_classes, **kwargs)\u001b[0m\n\u001b[1;32m    244\u001b[0m                     \u001b[0;34m\"Couldn't find a tree builder with the features you \"\u001b[0m\u001b[0;34m\u001b[0m\u001b[0;34m\u001b[0m\u001b[0m\n\u001b[1;32m    245\u001b[0m                     \u001b[0;34m\"requested: %s. Do you need to install a parser library?\"\u001b[0m\u001b[0;34m\u001b[0m\u001b[0;34m\u001b[0m\u001b[0m\n\u001b[0;32m--> 246\u001b[0;31m                     % \",\".join(features))\n\u001b[0m\u001b[1;32m    247\u001b[0m \u001b[0;34m\u001b[0m\u001b[0m\n\u001b[1;32m    248\u001b[0m         \u001b[0;31m# At this point either we have a TreeBuilder instance in\u001b[0m\u001b[0;34m\u001b[0m\u001b[0;34m\u001b[0m\u001b[0;34m\u001b[0m\u001b[0m\n",
      "\u001b[0;31mFeatureNotFound\u001b[0m: Couldn't find a tree builder with the features you requested: lxml. Do you need to install a parser library?"
     ]
    }
   ],
   "source": [
    "\n",
    "url = \"http://pythonscraping.com/pages/page1.html\"\n",
    "html = requests.get(url) \n",
    "soup = BeautifulSoup(html, \"lxml\")\n",
    "# print(soup)\n",
    "# print(soup.h1)"
   ]
  },
  {
   "cell_type": "markdown",
   "metadata": {},
   "source": [
    "***\n",
    "- ## R1"
   ]
  },
  {
   "cell_type": "code",
   "execution_count": 3,
   "metadata": {},
   "outputs": [
    {
     "ename": "NameError",
     "evalue": "name 'urlopen' is not defined",
     "output_type": "error",
     "traceback": [
      "\u001b[0;31m---------------------------------------------------------------------------\u001b[0m",
      "\u001b[0;31mNameError\u001b[0m                                 Traceback (most recent call last)",
      "\u001b[0;32m<ipython-input-3-670d534451e5>\u001b[0m in \u001b[0;36m<module>\u001b[0;34m\u001b[0m\n\u001b[1;32m      1\u001b[0m \u001b[0murl\u001b[0m \u001b[0;34m=\u001b[0m \u001b[0;34m\"http://pythonscraping.com/pages/page1.html\"\u001b[0m\u001b[0;34m\u001b[0m\u001b[0;34m\u001b[0m\u001b[0m\n\u001b[0;32m----> 2\u001b[0;31m \u001b[0mhtml\u001b[0m \u001b[0;34m=\u001b[0m \u001b[0murlopen\u001b[0m\u001b[0;34m(\u001b[0m\u001b[0murl\u001b[0m\u001b[0;34m)\u001b[0m\u001b[0;34m\u001b[0m\u001b[0;34m\u001b[0m\u001b[0m\n\u001b[0m\u001b[1;32m      3\u001b[0m \u001b[0;31m# print(type(html))     # class 'http.client.HTTPResponse'\u001b[0m\u001b[0;34m\u001b[0m\u001b[0;34m\u001b[0m\u001b[0;34m\u001b[0m\u001b[0m\n\u001b[1;32m      4\u001b[0m \u001b[0;31m# print(html.read()) #  Ts le contenu du fichier est stocké ds 1 \"chaîne de charactère\" format binaire\u001b[0m\u001b[0;34m\u001b[0m\u001b[0;34m\u001b[0m\u001b[0;34m\u001b[0m\u001b[0m\n\u001b[1;32m      5\u001b[0m \u001b[0;31m# print(type(html.read()))\u001b[0m\u001b[0;34m\u001b[0m\u001b[0;34m\u001b[0m\u001b[0;34m\u001b[0m\u001b[0m\n",
      "\u001b[0;31mNameError\u001b[0m: name 'urlopen' is not defined"
     ]
    }
   ],
   "source": [
    "url = \"http://pythonscraping.com/pages/page1.html\"\n",
    "html = urlopen(url)\n",
    "# print(type(html))     # class 'http.client.HTTPResponse'                  \n",
    "# print(html.read()) #  Ts le contenu du fichier est stocké ds 1 \"chaîne de charactère\" format binaire\n",
    "# print(type(html.read()))\n",
    "bsObj = BeautifulSoup(html.read(), 'lxml')\n",
    "# print(type(bsObj))\n",
    "# print(bsObj)\n",
    "\n",
    "print(bsObj.html.body.h1)\n",
    "# print(bsObj.body.h1)\n",
    "# print(bsObj.html.h1)\n",
    "# print(bsObj.h1)\n",
    "# Les 4 derniers print() sont équivalents. \n",
    "#Je ne vs précise pas laquelle utiliser MAIS soyez cohérent tt au long de votre code.  "
   ]
  },
  {
   "cell_type": "code",
   "execution_count": 87,
   "metadata": {},
   "outputs": [
    {
     "name": "stdout",
     "output_type": "stream",
     "text": [
      "\n",
      "Lorem ipsum dolor sit amet, consectetur adipisicing elit, sed do eiusmod tempor incididunt ut labore et dolore magna aliqua. Ut enim ad minim veniam, quis nostrud exercitation ullamco laboris nisi ut aliquip ex ea commodo consequat. Duis aute irure dolor in reprehenderit in voluptate velit esse cillum dolore eu fugiat nulla pariatur. Excepteur sint occaecat cupidatat non proident, sunt in culpa qui officia deserunt mollit anim id est laborum.\n",
      "\n"
     ]
    }
   ],
   "source": [
    "# print(bsObj.html)\n",
    "# print(bsObj.head)\n",
    "# print(bsObj.head.title)\n",
    "# print(bsObj.title)\n",
    "# print(bsObj.body)\n",
    "# print(bsObj.div.text)"
   ]
  },
  {
   "cell_type": "code",
   "execution_count": 92,
   "metadata": {},
   "outputs": [
    {
     "name": "stdout",
     "output_type": "stream",
     "text": [
      "<h1 class=\"ProfileHeaderCard-name\">\n",
      "<a class=\"ProfileHeaderCard-nameLink u-textInheritColor js-nav\" href=\"/realDonaldTrump\">Donald J. Trump</a><span class=\"ProfileHeaderCard-badges\"><a class=\"js-tooltip\" data-placement=\"right\" href=\"/help/verified\" rel=\"noopener\" target=\"_blank\" title=\"Compte certifié\"><span class=\"Icon Icon--verified\"><span class=\"u-hiddenVisually\">Compte certifié</span></span></a></span>\n",
      "</h1>\n"
     ]
    }
   ],
   "source": [
    "#Donald Trump\n",
    "# print(soup.find('h1').text) # RealDonalTrump\n",
    "# print(soup.findAll('h1'))  # [0]) #.text)\n",
    "\n",
    "# len(soup.findAll('h1'))\n",
    "for items in soup.findAll('h1') : \n",
    "   print(items)\n",
    "# print(soup.html)"
   ]
  },
  {
   "cell_type": "markdown",
   "metadata": {},
   "source": [
    "***\n",
    "## Réponse : ts les mots colorés en vert ?\n",
    "url2 = http://www.pythonscraping.com/pages/warandpeace.html  \n",
    "Ex : 1è mot en vert : Anna Pavlovna Scherer"
   ]
  },
  {
   "cell_type": "code",
   "execution_count": 100,
   "metadata": {},
   "outputs": [
    {
     "name": "stdout",
     "output_type": "stream",
     "text": [
      "7\n",
      "[<span class=\"green\">the prince</span>, <span class=\"green\">the prince</span>, <span class=\"green\">the prince</span>, <span class=\"green\">the prince</span>, <span class=\"green\">the prince</span>, <span class=\"green\">the prince</span>, <span class=\"green\">the prince</span>]\n"
     ]
    }
   ],
   "source": [
    "# url = \"http://www.pythonscraping.com/pages/warandpeace.html\"\n",
    "# html = urlopen(url)\n",
    "# bsObj = BeautifulSoup(html, \"lxml\")\n",
    "# list_header = bsObj.findAll({\"h1\", \"h2\"})\n",
    "# print(list_header)\n",
    "\n",
    "# for item in list_header : \n",
    "#     item.get_text() \n",
    "\n",
    "\n",
    "# list_div = bsObj.findAll(\"div\")\n",
    "# print(list_div)\n",
    "\n",
    "# list_span = bsObj.findAll(\"span\", limit = 5)\n",
    "# print(list_span)\n",
    "# print(len(list_span)) # 5\n",
    "\n",
    "# list_vert = bsObj.findAll({\"span\"}, {\"class\":\"green\"})\n",
    "# Rq : bsObj.findAll(tagName, tagAttributes) \n",
    "# print(list_vert)\n",
    "# for name in list_vert :\n",
    "#    print(name.get_text())\n",
    "\n",
    "#Q : Cmnt ça marche .get_text() ? \n",
    "#R : \n",
    "#.get_text() strips all tags from the document and returns a string containing the text only. \n",
    "#For example, if you are working with a large block of text that contains many hyperlinks, paragraphs, and other tags,\n",
    "#all those will be stripped away and you’ll be left with a tagless block of text\n",
    "\n",
    "# name_first = bsObj.find(\"span\", {\"class\":\"green\"})\n",
    "# print(name_first)\n",
    "# print(name_first.get_text())\n",
    "\n",
    "# list_prince = bsObj.findAll(\"span\", {\"class\":\"green\"}, text=\"the prince\")\n",
    "# Rq : findAll(tag, attributes, text, limit)\n",
    "# print(len(list_prince))\n",
    "# print(list_prince)"
   ]
  },
  {
   "cell_type": "markdown",
   "metadata": {},
   "source": [
    "***\n",
    "- ## R : On cherche à réccupérer le tableau (en entier càd y compris ses tags et ses spans et non juste les données comprises) ?   \n",
    "url = http://www.pythonscraping.com/pages/page3.html  "
   ]
  },
  {
   "cell_type": "code",
   "execution_count": 103,
   "metadata": {},
   "outputs": [
    {
     "data": {
      "text/plain": [
       "13"
      ]
     },
     "execution_count": 103,
     "metadata": {},
     "output_type": "execute_result"
    },
    {
     "name": "stdout",
     "output_type": "stream",
     "text": [
      "\n",
      "\n",
      "<tr><th>\n",
      "Item Title\n",
      "</th><th>\n",
      "Description\n",
      "</th><th>\n",
      "Cost\n",
      "</th><th>\n",
      "Image\n",
      "</th></tr>\n",
      "\n",
      "\n",
      "<tr class=\"gift\" id=\"gift1\"><td>\n",
      "Vegetable Basket\n",
      "</td><td>\n",
      "This vegetable basket is the perfect gift for your health conscious (or overweight) friends!\n",
      "<span class=\"excitingNote\">Now with super-colorful bell peppers!</span>\n",
      "</td><td>\n",
      "$15.00\n",
      "</td><td>\n",
      "<img src=\"../img/gifts/img1.jpg\"/>\n",
      "</td></tr>\n",
      "\n",
      "\n",
      "<tr class=\"gift\" id=\"gift2\"><td>\n",
      "Russian Nesting Dolls\n",
      "</td><td>\n",
      "Hand-painted by trained monkeys, these exquisite dolls are priceless! And by \"priceless,\" we mean \"extremely expensive\"! <span class=\"excitingNote\">8 entire dolls per set! Octuple the presents!</span>\n",
      "</td><td>\n",
      "$10,000.52\n",
      "</td><td>\n",
      "<img src=\"../img/gifts/img2.jpg\"/>\n",
      "</td></tr>\n",
      "\n",
      "\n",
      "<tr class=\"gift\" id=\"gift3\"><td>\n",
      "Fish Painting\n",
      "</td><td>\n",
      "If something seems fishy about this painting, it's because it's a fish! <span class=\"excitingNote\">Also hand-painted by trained monkeys!</span>\n",
      "</td><td>\n",
      "$10,005.00\n",
      "</td><td>\n",
      "<img src=\"../img/gifts/img3.jpg\"/>\n",
      "</td></tr>\n",
      "\n",
      "\n",
      "<tr class=\"gift\" id=\"gift4\"><td>\n",
      "Dead Parrot\n",
      "</td><td>\n",
      "This is an ex-parrot! <span class=\"excitingNote\">Or maybe he's only resting?</span>\n",
      "</td><td>\n",
      "$0.50\n",
      "</td><td>\n",
      "<img src=\"../img/gifts/img4.jpg\"/>\n",
      "</td></tr>\n",
      "\n",
      "\n",
      "<tr class=\"gift\" id=\"gift5\"><td>\n",
      "Mystery Box\n",
      "</td><td>\n",
      "If you love suprises, this mystery box is for you! Do not place on light-colored surfaces. May cause oil staining. <span class=\"excitingNote\">Keep your friends guessing!</span>\n",
      "</td><td>\n",
      "$1.50\n",
      "</td><td>\n",
      "<img src=\"../img/gifts/img6.jpg\"/>\n",
      "</td></tr>\n",
      "\n",
      "\n"
     ]
    }
   ],
   "source": [
    "url = \"http://www.pythonscraping.com/pages/page3.html\"\n",
    "html = urlopen(url)\n",
    "bsObj = BeautifulSoup(html, 'lxml')\n",
    "# print(type(bsObj))\n",
    "# tableGift = bsObj.find(\"table\", {\"id\":\"giftList\"})\n",
    "# print(tableGift)\n",
    "# print(type(tableGift))\n",
    "listGift = list(tableGift.children)\n",
    "len(listGift)\n",
    "for child in tableGift.children :\n",
    "    print(child)"
   ]
  },
  {
   "cell_type": "code",
   "execution_count": 36,
   "metadata": {},
   "outputs": [
    {
     "name": "stdout",
     "output_type": "stream",
     "text": [
      "\n",
      "\n",
      "<tr><th>\n",
      "Item Title\n",
      "</th><th>\n",
      "Description\n",
      "</th><th>\n",
      "Cost\n",
      "</th><th>\n",
      "Image\n",
      "</th></tr>\n",
      "<th>\n",
      "Item Title\n",
      "</th>\n",
      "\n",
      "Item Title\n",
      "\n",
      "<th>\n",
      "Description\n",
      "</th>\n",
      "\n",
      "Description\n",
      "\n",
      "<th>\n",
      "Cost\n",
      "</th>\n",
      "\n",
      "Cost\n",
      "\n",
      "<th>\n",
      "Image\n",
      "</th>\n",
      "\n",
      "Image\n",
      "\n",
      "\n",
      "\n",
      "<tr class=\"gift\" id=\"gift1\"><td>\n",
      "Vegetable Basket\n",
      "</td><td>\n",
      "This vegetable basket is the perfect gift for your health conscious (or overweight) friends!\n",
      "<span class=\"excitingNote\">Now with super-colorful bell peppers!</span>\n",
      "</td><td>\n",
      "$15.00\n",
      "</td><td>\n",
      "<img src=\"../img/gifts/img1.jpg\"/>\n",
      "</td></tr>\n",
      "<td>\n",
      "Vegetable Basket\n",
      "</td>\n",
      "\n",
      "Vegetable Basket\n",
      "\n",
      "<td>\n",
      "This vegetable basket is the perfect gift for your health conscious (or overweight) friends!\n",
      "<span class=\"excitingNote\">Now with super-colorful bell peppers!</span>\n",
      "</td>\n",
      "\n",
      "This vegetable basket is the perfect gift for your health conscious (or overweight) friends!\n",
      "\n",
      "<span class=\"excitingNote\">Now with super-colorful bell peppers!</span>\n",
      "Now with super-colorful bell peppers!\n",
      "\n",
      "\n",
      "<td>\n",
      "$15.00\n",
      "</td>\n",
      "\n",
      "$15.00\n",
      "\n",
      "<td>\n",
      "<img src=\"../img/gifts/img1.jpg\"/>\n",
      "</td>\n",
      "\n",
      "\n",
      "<img src=\"../img/gifts/img1.jpg\"/>\n",
      "\n",
      "\n",
      "\n",
      "\n",
      "<tr class=\"gift\" id=\"gift2\"><td>\n",
      "Russian Nesting Dolls\n",
      "</td><td>\n",
      "Hand-painted by trained monkeys, these exquisite dolls are priceless! And by \"priceless,\" we mean \"extremely expensive\"! <span class=\"excitingNote\">8 entire dolls per set! Octuple the presents!</span>\n",
      "</td><td>\n",
      "$10,000.52\n",
      "</td><td>\n",
      "<img src=\"../img/gifts/img2.jpg\"/>\n",
      "</td></tr>\n",
      "<td>\n",
      "Russian Nesting Dolls\n",
      "</td>\n",
      "\n",
      "Russian Nesting Dolls\n",
      "\n",
      "<td>\n",
      "Hand-painted by trained monkeys, these exquisite dolls are priceless! And by \"priceless,\" we mean \"extremely expensive\"! <span class=\"excitingNote\">8 entire dolls per set! Octuple the presents!</span>\n",
      "</td>\n",
      "\n",
      "Hand-painted by trained monkeys, these exquisite dolls are priceless! And by \"priceless,\" we mean \"extremely expensive\"! \n",
      "<span class=\"excitingNote\">8 entire dolls per set! Octuple the presents!</span>\n",
      "8 entire dolls per set! Octuple the presents!\n",
      "\n",
      "\n",
      "<td>\n",
      "$10,000.52\n",
      "</td>\n",
      "\n",
      "$10,000.52\n",
      "\n",
      "<td>\n",
      "<img src=\"../img/gifts/img2.jpg\"/>\n",
      "</td>\n",
      "\n",
      "\n",
      "<img src=\"../img/gifts/img2.jpg\"/>\n",
      "\n",
      "\n",
      "\n",
      "\n",
      "<tr class=\"gift\" id=\"gift3\"><td>\n",
      "Fish Painting\n",
      "</td><td>\n",
      "If something seems fishy about this painting, it's because it's a fish! <span class=\"excitingNote\">Also hand-painted by trained monkeys!</span>\n",
      "</td><td>\n",
      "$10,005.00\n",
      "</td><td>\n",
      "<img src=\"../img/gifts/img3.jpg\"/>\n",
      "</td></tr>\n",
      "<td>\n",
      "Fish Painting\n",
      "</td>\n",
      "\n",
      "Fish Painting\n",
      "\n",
      "<td>\n",
      "If something seems fishy about this painting, it's because it's a fish! <span class=\"excitingNote\">Also hand-painted by trained monkeys!</span>\n",
      "</td>\n",
      "\n",
      "If something seems fishy about this painting, it's because it's a fish! \n",
      "<span class=\"excitingNote\">Also hand-painted by trained monkeys!</span>\n",
      "Also hand-painted by trained monkeys!\n",
      "\n",
      "\n",
      "<td>\n",
      "$10,005.00\n",
      "</td>\n",
      "\n",
      "$10,005.00\n",
      "\n",
      "<td>\n",
      "<img src=\"../img/gifts/img3.jpg\"/>\n",
      "</td>\n",
      "\n",
      "\n",
      "<img src=\"../img/gifts/img3.jpg\"/>\n",
      "\n",
      "\n",
      "\n",
      "\n",
      "<tr class=\"gift\" id=\"gift4\"><td>\n",
      "Dead Parrot\n",
      "</td><td>\n",
      "This is an ex-parrot! <span class=\"excitingNote\">Or maybe he's only resting?</span>\n",
      "</td><td>\n",
      "$0.50\n",
      "</td><td>\n",
      "<img src=\"../img/gifts/img4.jpg\"/>\n",
      "</td></tr>\n",
      "<td>\n",
      "Dead Parrot\n",
      "</td>\n",
      "\n",
      "Dead Parrot\n",
      "\n",
      "<td>\n",
      "This is an ex-parrot! <span class=\"excitingNote\">Or maybe he's only resting?</span>\n",
      "</td>\n",
      "\n",
      "This is an ex-parrot! \n",
      "<span class=\"excitingNote\">Or maybe he's only resting?</span>\n",
      "Or maybe he's only resting?\n",
      "\n",
      "\n",
      "<td>\n",
      "$0.50\n",
      "</td>\n",
      "\n",
      "$0.50\n",
      "\n",
      "<td>\n",
      "<img src=\"../img/gifts/img4.jpg\"/>\n",
      "</td>\n",
      "\n",
      "\n",
      "<img src=\"../img/gifts/img4.jpg\"/>\n",
      "\n",
      "\n",
      "\n",
      "\n",
      "<tr class=\"gift\" id=\"gift5\"><td>\n",
      "Mystery Box\n",
      "</td><td>\n",
      "If you love suprises, this mystery box is for you! Do not place on light-colored surfaces. May cause oil staining. <span class=\"excitingNote\">Keep your friends guessing!</span>\n",
      "</td><td>\n",
      "$1.50\n",
      "</td><td>\n",
      "<img src=\"../img/gifts/img6.jpg\"/>\n",
      "</td></tr>\n",
      "<td>\n",
      "Mystery Box\n",
      "</td>\n",
      "\n",
      "Mystery Box\n",
      "\n",
      "<td>\n",
      "If you love suprises, this mystery box is for you! Do not place on light-colored surfaces. May cause oil staining. <span class=\"excitingNote\">Keep your friends guessing!</span>\n",
      "</td>\n",
      "\n",
      "If you love suprises, this mystery box is for you! Do not place on light-colored surfaces. May cause oil staining. \n",
      "<span class=\"excitingNote\">Keep your friends guessing!</span>\n",
      "Keep your friends guessing!\n",
      "\n",
      "\n",
      "<td>\n",
      "$1.50\n",
      "</td>\n",
      "\n",
      "$1.50\n",
      "\n",
      "<td>\n",
      "<img src=\"../img/gifts/img6.jpg\"/>\n",
      "</td>\n",
      "\n",
      "\n",
      "<img src=\"../img/gifts/img6.jpg\"/>\n",
      "\n",
      "\n",
      "\n",
      "\n"
     ]
    }
   ],
   "source": [
    "tableDesc = tableGift.descendants\n",
    "listDesc = list(tableDesc)\n",
    "# len(listDesc)\n",
    "# print(listDesc)\n",
    "for descendant in listDesc:\n",
    "    print(descendant) "
   ]
  },
  {
   "cell_type": "markdown",
   "metadata": {},
   "source": [
    "***\n",
    "- ## Sous Obj : Gestion des exceptions\n",
    "    - **Q : Qu'est-ce que les erreurs 404 et 500, Gérer ces deux erreurs pr les 2 URL (page1 et trump) ?**   "
   ]
  },
  {
   "cell_type": "code",
   "execution_count": null,
   "metadata": {},
   "outputs": [],
   "source": [
    "url = \"http://pythonscraping.com/pages/page1.html\"\n",
    "html = urlopen(url)\n",
    "print(html.read())"
   ]
  },
  {
   "cell_type": "code",
   "execution_count": null,
   "metadata": {},
   "outputs": [],
   "source": [
    "from urllib.error import HTTPError\n",
    "from urllib.error import URLError\n",
    "url = \"http://pythonscraping.com/pages/page1.html\"\n",
    "try : \n",
    "    html = urlopen(url)\n",
    "except HTTPError as e :     \n",
    "    print(e)\n",
    "    print(\"- La page web n’existe pas (plus)\")\n",
    "    #return null, break, or do some other \"Plan B\"\n",
    "except URLError as e :     \n",
    "    print(e)\n",
    "    print(\"- The server could not be found!\")    \n",
    "else : \n",
    "    print(\"It worked!\")\n",
    "    #program continues. Note: If you return or break in the\n",
    "    #exception catch, you do not need to use the \"else\" statement"
   ]
  },
  {
   "cell_type": "markdown",
   "metadata": {},
   "source": [
    "**Q : Gérer l'erreur où vs indiquez un tag qui n'existe pas ?** "
   ]
  },
  {
   "cell_type": "code",
   "execution_count": null,
   "metadata": {},
   "outputs": [],
   "source": [
    "#print(bsObj.h11) # None\n",
    "#print(bsObj.h11.text) # Lire 1type None => AttributeError\n",
    "#print(soup.nonExistingTag) # Deprecated\n",
    "#print(soup.find(\"nonExistingTag\")) # Bonne syntaxe\n",
    "print(soup.find(\"h1\").text)\n",
    "#.find(\"sometag\"))      "
   ]
  },
  {
   "cell_type": "code",
   "execution_count": null,
   "metadata": {},
   "outputs": [],
   "source": [
    "try :\n",
    "    badContent = bsObj.find(\"nonExistingTag\")#\n",
    "except AttributeError as e :\n",
    "    print(\"Tag was not found\")\n",
    "else :\n",
    "    if badContent == None :\n",
    "        print(\"Tag was not found\")\n",
    "    else :\n",
    "        print(badContent)"
   ]
  },
  {
   "cell_type": "markdown",
   "metadata": {},
   "source": [
    "***\n",
    "- ## Obj 4 : Les différents parseurs \n",
    "**Q : Les différents parseurs de BeutifulSoup ?**   \n"
   ]
  },
  {
   "cell_type": "code",
   "execution_count": 46,
   "metadata": {},
   "outputs": [
    {
     "name": "stdout",
     "output_type": "stream",
     "text": [
      "<?xml version=\"1.0\" encoding=\"utf-8\"?>\n",
      "\n"
     ]
    }
   ],
   "source": [
    "#soup_html = BeautifulSoup(html.read(), 'html.parser')\n",
    "#print(soup_html)\n",
    "soup_xml = BeautifulSoup(html.read(), 'xml')\n",
    "print(soup_xml)"
   ]
  },
  {
   "cell_type": "code",
   "execution_count": null,
   "metadata": {},
   "outputs": [],
   "source": [
    "BeautifulSoup(\"<a><b /></a>\")"
   ]
  },
  {
   "cell_type": "markdown",
   "metadata": {},
   "source": [
    "***\n",
    "- ## Obj : \n",
    "**Une page web contient souvent des liens hypertexte sur lesquels vs cliquez :**\n",
    "- lien simple (ou avec CSS),\n",
    "- lien de type bouton (par ex home bouton),\n",
    "- hoover\n",
    "- Cliquez sur ce lien hypertexte fraîchement construit :\n",
    "<a href=\"http://www.startyourdev.com/html/tag-html-balise-a\">pour vous perfectionner avec la balise ***a***</a>  \n",
    "\n",
    "La balise ***a*** permet en effet de créer un lien hypertexte pointant vers un document en spécifiant l'url de celui-ci au niveau de l'attribut \"href\" (...). \n",
    "\n",
    "**Q : Réccuperer ts les liens hypertextes de la page à l'aide d'un regex Et à l'aide de la méthode spécifique de BeautifulSoup ? Pr ce faire, réccuperer ttes les balises de type 'a'. Chercher ensuite ds leur contenu l'attribut \"href\" ?**   \n",
    "Indice : findAll()"
   ]
  },
  {
   "cell_type": "code",
   "execution_count": 24,
   "metadata": {},
   "outputs": [
    {
     "name": "stdout",
     "output_type": "stream",
     "text": [
      "<a class=\"u-hiddenVisually focusable\" href=\"#timeline\">Passer au contenu</a>\n",
      "<a class=\"u-hiddenVisually focusable\" href=\"#timeline\">Passer au contenu</a>\n"
     ]
    }
   ],
   "source": [
    "#print(soup.findAll('a')) #Chercher ttes les balises <a></a>     \n",
    "type(soup.findAll('a')) #bs4.element.ResultSet\n",
    "#isinstance(soup.findAll('a'), list)\n",
    "#len(soup.findAll('a'))\n",
    "print(soup.findAll('a')[0])\n",
    "#Est équivalente \n",
    "print(soup.find('a'))"
   ]
  },
  {
   "cell_type": "code",
   "execution_count": null,
   "metadata": {},
   "outputs": [],
   "source": [
    "for link in soup.findAll('a') : \n",
    "    print(link.get('href')) #1è façon\n",
    "    print(link.text) #2è façon"
   ]
  },
  {
   "cell_type": "code",
   "execution_count": null,
   "metadata": {},
   "outputs": [],
   "source": [
    "print(soup.find('div', {'class' : 'ProfileAvatar-image '}).find('p').text)"
   ]
  },
  {
   "cell_type": "markdown",
   "metadata": {},
   "source": [
    "![](https://sophieetstephanie.files.wordpress.com/2013/11/tableau-codes-html.gif)"
   ]
  }
 ],
 "metadata": {
  "kernelspec": {
   "display_name": "Python 3",
   "language": "python",
   "name": "python3"
  },
  "language_info": {
   "codemirror_mode": {
    "name": "ipython",
    "version": 3
   },
   "file_extension": ".py",
   "mimetype": "text/x-python",
   "name": "python",
   "nbconvert_exporter": "python",
   "pygments_lexer": "ipython3",
   "version": "3.6.9"
  },
  "toc": {
   "nav_menu": {},
   "number_sections": true,
   "sideBar": true,
   "skip_h1_title": false,
   "title_cell": "Table of Contents",
   "title_sidebar": "Contents",
   "toc_cell": true,
   "toc_position": {},
   "toc_section_display": true,
   "toc_window_display": false
  },
  "varInspector": {
   "cols": {
    "lenName": 16,
    "lenType": 16,
    "lenVar": 40
   },
   "kernels_config": {
    "python": {
     "delete_cmd_postfix": "",
     "delete_cmd_prefix": "del ",
     "library": "var_list.py",
     "varRefreshCmd": "print(var_dic_list())"
    },
    "r": {
     "delete_cmd_postfix": ") ",
     "delete_cmd_prefix": "rm(",
     "library": "var_list.r",
     "varRefreshCmd": "cat(var_dic_list()) "
    }
   },
   "types_to_exclude": [
    "module",
    "function",
    "builtin_function_or_method",
    "instance",
    "_Feature"
   ],
   "window_display": false
  }
 },
 "nbformat": 4,
 "nbformat_minor": 2
}
